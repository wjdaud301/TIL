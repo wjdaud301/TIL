{
 "cells": [
  {
   "cell_type": "markdown",
   "id": "9f51b6f1-6019-4aa8-b0e0-f0776f51fc78",
   "metadata": {},
   "source": [
    "## 알파벳 찾기 :: 10809번\n",
    "\n",
    "* 문제\n",
    "\n",
    "알파벳 소문자로만 이루어진 단어 S가 주어진다. 각각의 알파벳에 대해서, 단어에 포함되어 있는 경우에는 처음 등장하\n",
    "는 위치를, 포함되어 있지 않은 경우에는 -1을 출력하는 프로그램을 작성하시오.\n",
    "\n",
    "* 입력\n",
    "\n",
    "첫째 줄에 단어 S가 주어진다. 단어의 길이는 100을 넘지 않으며, 알파벳 소문자로만 이루어져 있다.\n",
    "\n",
    "* 출력\n",
    "\n",
    "각각의 알파벳에 대해서, a가 처음 등장하는 위치, b가 처음 등장하는 위치, ... z가 처음 등장하는 위치를 공백으로 구분해서 출력한다.\n",
    "\n",
    "만약, 어떤 알파벳이 단어에 포함되어 있지 않다면 -1을 출력한다. 단어의 첫 번째 글자는 0번째 위치이고, 두 번째 글자는 1번째 위치이다.\n",
    "\n",
    "\n",
    "* 예제 입력\n",
    "baekjoon\n",
    "\n",
    "* 예제 출력\n",
    "1 0 -1 -1 2 -1 -1 -1 -1 4 3 -1 -1 7 5 -1 -1 -1 -1 -1 -1 -1 -1 -1 -1 -1"
   ]
  },
  {
   "cell_type": "code",
   "execution_count": 26,
   "id": "2f3e9be9-d1cb-4a84-a5a4-4cde21c58b66",
   "metadata": {},
   "outputs": [
    {
     "name": "stdin",
     "output_type": "stream",
     "text": [
      " baekjoon\n"
     ]
    },
    {
     "name": "stdout",
     "output_type": "stream",
     "text": [
      "1 0 -1 -1 2 -1 -1 -1 -1 4 3 -1 -1 7 5 -1 -1 -1 -1 -1 -1 -1 -1 -1 -1 -1\n"
     ]
    }
   ],
   "source": [
    "word = input()\n",
    "alpha = [chr(i) for i in range(ord('a'),ord('z')+1)]\n",
    "for i in range(len(alpha)):\n",
    "    if alpha[i] in word:\n",
    "        alpha[i] = word.index(alpha[i])\n",
    "    else:\n",
    "        alpha[i] = -1\n",
    "    \n",
    "print(*alpha)"
   ]
  },
  {
   "cell_type": "code",
   "execution_count": null,
   "id": "ab939024-b353-4f23-a3c6-5cff1ade3c01",
   "metadata": {},
   "outputs": [],
   "source": []
  }
 ],
 "metadata": {
  "kernelspec": {
   "display_name": "Python Multi",
   "language": "python",
   "name": "multi"
  },
  "language_info": {
   "codemirror_mode": {
    "name": "ipython",
    "version": 3
   },
   "file_extension": ".py",
   "mimetype": "text/x-python",
   "name": "python",
   "nbconvert_exporter": "python",
   "pygments_lexer": "ipython3",
   "version": "3.7.6"
  }
 },
 "nbformat": 4,
 "nbformat_minor": 5
}
