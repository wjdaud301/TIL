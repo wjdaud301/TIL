{
 "cells": [
  {
   "cell_type": "markdown",
   "id": "71e3d021-c6a1-49fd-9ed6-96246b07b3af",
   "metadata": {},
   "source": [
    "## 분산처리\n",
    "### 출처: 백준 알고리즘 1009번 문제"
   ]
  },
  {
   "cell_type": "markdown",
   "id": "60af0c65-4d83-4fee-a0b2-4831dee39999",
   "metadata": {},
   "source": [
    "#### 문제\n",
    "재용이는 최신 컴퓨터 10대를 가지고 있다. 어느 날 재용이는 많은 데이터를 처리해야 될 일이 생겨서 각 컴퓨터에 1번부터 10번까지의 번호를 부여하고, 10대의 컴퓨터가 다음과 같은 방법으로 데이터들을 처리하기로 하였다.\n",
    "\n",
    "1번 데이터는 1번 컴퓨터, 2번 데이터는 2번 컴퓨터, 3번 데이터는 3번 컴퓨터, … ,\n",
    "\n",
    "10번 데이터는 10번 컴퓨터, 11번 데이터는 1번 컴퓨터, 12번 데이터는 2번 컴퓨터, …\n",
    "\n",
    "총 데이터의 개수는 항상 ab개의 형태로 주어진다. 재용이는 문득 마지막 데이터가 처리될 컴퓨터의 번호가 궁금해졌다. 이를 수행해주는 프로그램을 작성하라.\n",
    "\n",
    "#### 입력\n",
    "입력의 첫 줄에는 테스트 케이스의 개수 T가 주어진다. 그 다음 줄부터 각각의 테스트 케이스에 대해 정수 a와 b가 주어진다. (1 ≤ a < 100, 1 ≤ b < 1,000,000)\n",
    "\n",
    "\n",
    "#### 출력\n",
    "각 테스트 케이스에 대해 마지막 데이터가 처리되는 컴퓨터의 번호를 출력한다.\n",
    "```\n",
    "예제입력\n",
    "    5\n",
    "    1 6\n",
    "    3 7\n",
    "    6 2\n",
    "    7 100\n",
    "    9 635\n",
    "\n",
    "예제출력\n",
    "    1\n",
    "    7\n",
    "    6\n",
    "    1\n",
    "    9\n",
    "```"
   ]
  },
  {
   "cell_type": "code",
   "execution_count": 12,
   "id": "ec3521d9-0486-444b-96dd-adb0656b3aa4",
   "metadata": {},
   "outputs": [
    {
     "name": "stdin",
     "output_type": "stream",
     "text": [
      " 5\n",
      " 1 6\n"
     ]
    },
    {
     "name": "stdout",
     "output_type": "stream",
     "text": [
      "1\n"
     ]
    },
    {
     "name": "stdin",
     "output_type": "stream",
     "text": [
      " 3 7\n"
     ]
    },
    {
     "name": "stdout",
     "output_type": "stream",
     "text": [
      "7\n"
     ]
    },
    {
     "name": "stdin",
     "output_type": "stream",
     "text": [
      " 6 2\n"
     ]
    },
    {
     "name": "stdout",
     "output_type": "stream",
     "text": [
      "6\n"
     ]
    },
    {
     "name": "stdin",
     "output_type": "stream",
     "text": [
      " 7 100\n"
     ]
    },
    {
     "name": "stdout",
     "output_type": "stream",
     "text": [
      "1\n"
     ]
    },
    {
     "name": "stdin",
     "output_type": "stream",
     "text": [
      " 9 635\n"
     ]
    },
    {
     "name": "stdout",
     "output_type": "stream",
     "text": [
      "9\n"
     ]
    }
   ],
   "source": [
    "def check(a,b):\n",
    "    recur = []\n",
    "    for i in range(0,b):\n",
    "        res = int(str(a ** (i+1))[-1])\n",
    "        if res not in recur:\n",
    "            recur.append(res)\n",
    "        else:\n",
    "            break\n",
    "    return recur\n",
    "\n",
    "T = int(input())\n",
    "for i in range(T):\n",
    "    a,b = map(int, input().split())\n",
    "    # check() 함수를 통해 1부터 증가하면서 반복되는 수가 있는지 확인\n",
    "    tmp = check(a,b)\n",
    "    \n",
    "    # 리스트 인덱스는 0부터 시작되므로, 나머지에서 1을 빼주면 된다.\n",
    "    result = tmp[(b%len(tmp))-1]\n",
    "    ''' \n",
    "    예외 중요!!만약 이 값이 0이라는 것은 10의 배수임을 뜻하므로 \n",
    "    무조건 마지막 연산하는 컴퓨터는 10번 컴퓨터가 된다.\n",
    "    따라서 10을 출력해준다. \n",
    "    '''\n",
    "    print(result if result != 0 else 10)\n",
    "    "
   ]
  },
  {
   "cell_type": "code",
   "execution_count": null,
   "id": "8900e96b-bcbb-4363-896a-105cfe7c6b4d",
   "metadata": {},
   "outputs": [],
   "source": []
  }
 ],
 "metadata": {
  "kernelspec": {
   "display_name": "jmyeong space",
   "language": "python",
   "name": "jmyeong"
  },
  "language_info": {
   "codemirror_mode": {
    "name": "ipython",
    "version": 3
   },
   "file_extension": ".py",
   "mimetype": "text/x-python",
   "name": "python",
   "nbconvert_exporter": "python",
   "pygments_lexer": "ipython3",
   "version": "3.8.8"
  }
 },
 "nbformat": 4,
 "nbformat_minor": 5
}
