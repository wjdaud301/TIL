{
 "cells": [
  {
   "cell_type": "markdown",
   "id": "9088a3b9-c0d6-4b3d-a7fe-54391bbb6ce6",
   "metadata": {},
   "source": [
    "## 2차원 배열의 합 :: 2167번\n",
    "\n",
    "* 문제\n",
    "\n",
    "2차원 배열이 주어졌을 때 (i, j) 위치부터 (x, y) 위치까지에 저장되어 있는 수들의 합을 구하는 프로그램을 작성하시오. 배열의 (i, j) 위치는 i행 j열을 나타낸다.\n",
    "\n",
    "* 입력\n",
    "\n",
    "첫째 줄에 배열의 크기 N, M(1 ≤ N, M ≤ 300)이 주어진다. 다음 N개의 줄에는 M개의 정수로 배열이 주어진다. 배열에 포함되어 있는 수는 절댓값이 10,000보다 작거나 같은 정수이다. 그 다음 줄에는 합을 구할 부분의 개수 K(1 ≤ K ≤ 10,000)가 주어진다. 다음 K개의 줄에는 네 개의 정수로 i, j, x, y가 주어진다(i ≤ x, j ≤ y).\n",
    "\n",
    "* 출력\n",
    "\n",
    "K개의 줄에 순서대로 배열의 합을 출력한다. 배열의 합은 231-1보다 작거나 같다.\n",
    "\n",
    "* 예제 입력 1\n",
    "\n",
    "2 3  \n",
    "1 2 4  \n",
    "8 16 32  \n",
    "3  \n",
    "1 1 2 3  \n",
    "1 2 1 2  \n",
    "1 3 2 3  \n",
    "* 예제 출력 1 \n",
    "\n",
    "63  \n",
    "2  \n",
    "36  "
   ]
  },
  {
   "cell_type": "code",
   "execution_count": 1,
   "id": "22faf312-401d-47f5-922c-01166db56fc2",
   "metadata": {},
   "outputs": [
    {
     "name": "stdin",
     "output_type": "stream",
     "text": [
      " 2 3\n",
      " 1 2 4\n",
      " 8 16 32\n",
      " 3\n",
      " 1 1 2 3\n"
     ]
    },
    {
     "name": "stdout",
     "output_type": "stream",
     "text": [
      "63\n"
     ]
    },
    {
     "name": "stdin",
     "output_type": "stream",
     "text": [
      " 1 2 1 2\n"
     ]
    },
    {
     "name": "stdout",
     "output_type": "stream",
     "text": [
      "2\n"
     ]
    },
    {
     "name": "stdin",
     "output_type": "stream",
     "text": [
      " 1 3 2 3\n"
     ]
    },
    {
     "name": "stdout",
     "output_type": "stream",
     "text": [
      "36\n"
     ]
    }
   ],
   "source": [
    "N,M = map(int, input().split())\n",
    "arr = [list(map(int,input().split())) for _ in range(N)]\n",
    "\n",
    "for _ in range(int(input())):\n",
    "    i,j,x,y = map(int,input().split())\n",
    "    # i와 j를 원상태로 두고 n,m을 이용하여 인덱스 증가\n",
    "    n,m = i,j\n",
    "    answer = 0\n",
    "    while True:\n",
    "        if m == y+1:\n",
    "            n += 1\n",
    "            m = j \n",
    "        answer += arr[n-1][m-1] \n",
    "        if n == x and m == y:\n",
    "            break\n",
    "        m += 1\n",
    "    print(answer)\n",
    "    "
   ]
  },
  {
   "cell_type": "code",
   "execution_count": null,
   "id": "9a45a82f-6bae-47f6-b0e2-4a9fea6c1903",
   "metadata": {},
   "outputs": [],
   "source": []
  }
 ],
 "metadata": {
  "kernelspec": {
   "display_name": "Python Multi",
   "language": "python",
   "name": "multi"
  },
  "language_info": {
   "codemirror_mode": {
    "name": "ipython",
    "version": 3
   },
   "file_extension": ".py",
   "mimetype": "text/x-python",
   "name": "python",
   "nbconvert_exporter": "python",
   "pygments_lexer": "ipython3",
   "version": "3.7.6"
  }
 },
 "nbformat": 4,
 "nbformat_minor": 5
}
