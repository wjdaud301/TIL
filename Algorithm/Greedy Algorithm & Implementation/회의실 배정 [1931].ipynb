{
 "cells": [
  {
   "cell_type": "code",
   "execution_count": 45,
   "metadata": {},
   "outputs": [
    {
     "name": "stdout",
     "output_type": "stream",
     "text": [
      "5\n",
      "1 4\n",
      "2 7\n",
      "5 5\n",
      "4 7\n",
      "3 4\n",
      "[[1, 4], [3, 4], [5, 5], [2, 7], [4, 7]]\n",
      "2\n"
     ]
    }
   ],
   "source": [
    "# 핵심 아이디어 : 조건에의한 정렬\n",
    "\n",
    "n = int(input())\n",
    "s = []\n",
    "# 2차원 배열 형태 [[start,end],[start,end],...]\n",
    "for i in range(n):\n",
    "    start, end =map(int,input().split())\n",
    "    s.append([start, end])\n",
    "    \n",
    "# end시간을 정렬하고 start시간을 정렬 해야한다.\n",
    "# 조건: 회의의 시작시간과 끝나는 시간이 같을 수도 있다.\n",
    "s = sorted(s, key=lambda a:(a[1],a[0]))\n",
    "\n",
    "last = 0\n",
    "cnt = 0\n",
    "\n",
    "for i,j in s:\n",
    "    if i >= last:\n",
    "        cnt += 1\n",
    "        last = j\n",
    "print(cnt)\n",
    "        \n",
    "\n",
    "\n",
    "\n",
    "    "
   ]
  },
  {
   "cell_type": "markdown",
   "metadata": {},
   "source": [
    "## "
   ]
  },
  {
   "cell_type": "code",
   "execution_count": null,
   "metadata": {},
   "outputs": [],
   "source": []
  }
 ],
 "metadata": {
  "kernelspec": {
   "display_name": "Python 3",
   "language": "python",
   "name": "python3"
  },
  "language_info": {
   "codemirror_mode": {
    "name": "ipython",
    "version": 3
   },
   "file_extension": ".py",
   "mimetype": "text/x-python",
   "name": "python",
   "nbconvert_exporter": "python",
   "pygments_lexer": "ipython3",
   "version": "3.8.3"
  }
 },
 "nbformat": 4,
 "nbformat_minor": 4
}
