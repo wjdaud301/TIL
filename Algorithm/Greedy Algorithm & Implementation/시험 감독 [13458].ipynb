{
 "cells": [
  {
   "cell_type": "code",
   "execution_count": 6,
   "metadata": {},
   "outputs": [
    {
     "name": "stdout",
     "output_type": "stream",
     "text": [
      "5\n",
      "10 9 10 9 10\n",
      "7 2\n",
      "13\n"
     ]
    }
   ],
   "source": [
    "n = int(input()) # 시험장의 개수\n",
    "a = list(map(int,input().split())) # 각 시험장에 있는 응시자의 수\n",
    "b, c = map(int,input().split()) # 총감독관 / 부감독관\n",
    "cnt = 0\n",
    "\n",
    "for i in a:\n",
    "    if i - b <= 0:\n",
    "        cnt += 1\n",
    "    else:\n",
    "        tmp = i - b\n",
    "        cnt += 1\n",
    "        cnt += tmp//c\n",
    "        if tmp % c > 0:\n",
    "            cnt += 1\n",
    "print(cnt)\n",
    "            \n"
   ]
  },
  {
   "cell_type": "code",
   "execution_count": null,
   "metadata": {},
   "outputs": [],
   "source": []
  }
 ],
 "metadata": {
  "kernelspec": {
   "display_name": "Python 3",
   "language": "python",
   "name": "python3"
  },
  "language_info": {
   "codemirror_mode": {
    "name": "ipython",
    "version": 3
   },
   "file_extension": ".py",
   "mimetype": "text/x-python",
   "name": "python",
   "nbconvert_exporter": "python",
   "pygments_lexer": "ipython3",
   "version": "3.8.3"
  }
 },
 "nbformat": 4,
 "nbformat_minor": 4
}
