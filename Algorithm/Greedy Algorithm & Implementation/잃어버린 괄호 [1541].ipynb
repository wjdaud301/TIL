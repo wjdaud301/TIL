{
 "cells": [
  {
   "cell_type": "code",
   "execution_count": 44,
   "metadata": {},
   "outputs": [
    {
     "name": "stdout",
     "output_type": "stream",
     "text": [
      "55-50+40\n",
      "-35\n"
     ]
    }
   ],
   "source": [
    "# 입력받은 식을 '-' 기준으로 분리한다.\n",
    "formation = input().split('-')\n",
    "\n",
    "for i in range(len(formation)):\n",
    "    # 분리된 식을 다시 '+'로 분리하여 합을 구하고 다시 리스트에 추가한다. \n",
    "    sub_sum = formation[i].split('+')\n",
    "    sub_sum = list(map(int,sub_sum))\n",
    "    sub_sum = sum(sub_sum)\n",
    "    formation[i] = sub_sum\n",
    "    \n",
    "sub = formation[0]\n",
    "# 리스트의 요소들을 전부 뺀다.\n",
    "for i in formation[1:len(formation)]:\n",
    "    sub -= i\n",
    "print(sub)\n"
   ]
  },
  {
   "cell_type": "code",
   "execution_count": null,
   "metadata": {},
   "outputs": [],
   "source": []
  },
  {
   "cell_type": "code",
   "execution_count": null,
   "metadata": {},
   "outputs": [],
   "source": []
  }
 ],
 "metadata": {
  "kernelspec": {
   "display_name": "Python 3",
   "language": "python",
   "name": "python3"
  },
  "language_info": {
   "codemirror_mode": {
    "name": "ipython",
    "version": 3
   },
   "file_extension": ".py",
   "mimetype": "text/x-python",
   "name": "python",
   "nbconvert_exporter": "python",
   "pygments_lexer": "ipython3",
   "version": "3.8.3"
  }
 },
 "nbformat": 4,
 "nbformat_minor": 4
}
