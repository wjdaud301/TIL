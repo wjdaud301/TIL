{
 "cells": [
  {
   "cell_type": "code",
   "execution_count": 10,
   "metadata": {},
   "outputs": [
    {
     "name": "stdout",
     "output_type": "stream",
     "text": [
      "10 4200\n",
      "1\n",
      "5\n",
      "10\n",
      "50\n",
      "100\n",
      "500\n",
      "1000\n",
      "5000\n",
      "10000\n",
      "50000\n",
      "[50000, 10000, 5000, 1000, 500, 100, 50, 10, 5, 1]\n",
      "6\n"
     ]
    }
   ],
   "source": [
    "n,k = map(int,input().split())\n",
    "coins = []\n",
    "count = 0\n",
    "\n",
    "for i in range(n):\n",
    "    coins.append(int(input()))           \n",
    "coins.sort(reverse=True)\n",
    "\n",
    "for coin in coins:\n",
    "    if k//coin == 0:\n",
    "            pass\n",
    "    else:\n",
    "        count += k//coin\n",
    "        k = k%coin\n",
    "        if k == 0:\n",
    "            break\n",
    "print(count)\n",
    "        "
   ]
  },
  {
   "cell_type": "code",
   "execution_count": null,
   "metadata": {},
   "outputs": [],
   "source": []
  },
  {
   "cell_type": "code",
   "execution_count": null,
   "metadata": {},
   "outputs": [],
   "source": []
  }
 ],
 "metadata": {
  "kernelspec": {
   "display_name": "Python 3",
   "language": "python",
   "name": "python3"
  },
  "language_info": {
   "codemirror_mode": {
    "name": "ipython",
    "version": 3
   },
   "file_extension": ".py",
   "mimetype": "text/x-python",
   "name": "python",
   "nbconvert_exporter": "python",
   "pygments_lexer": "ipython3",
   "version": "3.8.3"
  }
 },
 "nbformat": 4,
 "nbformat_minor": 4
}
