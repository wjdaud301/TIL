{
 "cells": [
  {
   "cell_type": "code",
   "execution_count": null,
   "metadata": {},
   "outputs": [],
   "source": [
    "import sys\n",
    "import heapq\n",
    "from collections import deque\n",
    "input = sys.stdin.readline\n",
    "\n",
    "a, b = map(int,input().split())\n",
    "\n",
    "info=[list(map(int,input().split())) for _ in range(a)]\n",
    "info = deque(sorted(info, key=lambda x:x[0]))\n",
    "Max = [int(input()) for _ in range(b)]\n",
    "Max.sort()\n",
    "\n",
    "heap=[]\n",
    "res = 0\n",
    "\n",
    "for bag in Max:\n",
    "    capacity = bag\n",
    "    while info and capacity >= info[0][0]:\n",
    "        heapq.heappush(heap,-info.popleft()[1])\n",
    "    if heap:res-=heapq.heappop(heap)\n",
    "        \n",
    "print(res)"
   ]
  },
  {
   "cell_type": "code",
   "execution_count": null,
   "metadata": {},
   "outputs": [],
   "source": []
  }
 ],
 "metadata": {
  "kernelspec": {
   "display_name": "Python 3",
   "language": "python",
   "name": "python3"
  },
  "language_info": {
   "codemirror_mode": {
    "name": "ipython",
    "version": 3
   },
   "file_extension": ".py",
   "mimetype": "text/x-python",
   "name": "python",
   "nbconvert_exporter": "python",
   "pygments_lexer": "ipython3",
   "version": "3.8.3"
  }
 },
 "nbformat": 4,
 "nbformat_minor": 4
}
