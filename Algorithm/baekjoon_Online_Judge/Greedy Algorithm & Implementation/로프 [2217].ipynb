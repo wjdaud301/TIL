{
 "cells": [
  {
   "cell_type": "code",
   "execution_count": 13,
   "metadata": {},
   "outputs": [
    {
     "name": "stdout",
     "output_type": "stream",
     "text": [
      "3\n",
      "4\n",
      "7\n",
      "9\n",
      "14\n"
     ]
    }
   ],
   "source": [
    "''' \n",
    "풀이\n",
    " 정렬한 후에 무게가 가장 낮은 로프 * 개수(k)가 가장 최고무게\n",
    " 하지만 임의로 몇 개의 로프를 골라서 사용해도 되므로\n",
    " 무게중 가장 높은것의 무게와 최대값 비교\n",
    "'''\n",
    "\n",
    "k = int(input())\n",
    "n= []\n",
    "for i in range(k):\n",
    "    n.append(int(input()))\n",
    "n.sort()\n",
    "result = 0\n",
    "\n",
    "for i in range(k):\n",
    "    result = max(result, n[i]*(k-i))\n",
    "print(result)"
   ]
  },
  {
   "cell_type": "code",
   "execution_count": null,
   "metadata": {},
   "outputs": [],
   "source": []
  },
  {
   "cell_type": "code",
   "execution_count": null,
   "metadata": {},
   "outputs": [],
   "source": []
  }
 ],
 "metadata": {
  "kernelspec": {
   "display_name": "Python 3",
   "language": "python",
   "name": "python3"
  },
  "language_info": {
   "codemirror_mode": {
    "name": "ipython",
    "version": 3
   },
   "file_extension": ".py",
   "mimetype": "text/x-python",
   "name": "python",
   "nbconvert_exporter": "python",
   "pygments_lexer": "ipython3",
   "version": "3.8.3"
  }
 },
 "nbformat": 4,
 "nbformat_minor": 4
}
