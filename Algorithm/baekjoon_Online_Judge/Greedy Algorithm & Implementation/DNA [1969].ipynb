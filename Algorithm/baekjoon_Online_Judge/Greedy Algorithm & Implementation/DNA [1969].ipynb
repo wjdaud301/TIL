{
 "cells": [
  {
   "cell_type": "code",
   "execution_count": 40,
   "metadata": {},
   "outputs": [
    {
     "name": "stdout",
     "output_type": "stream",
     "text": [
      "2 4\n",
      "asdf\n",
      "wert\n",
      "s\n",
      "AAAA\n",
      "8\n"
     ]
    }
   ],
   "source": [
    "'''\n",
    "풀이:\n",
    "1. 열을 기준으로 다른 곳을 찾는다.\n",
    "2. ACGT는 사전순으로 하여 최댓값이 동일할 때 가장 앞서는 것을 추가시킨다.\n",
    "3. ACGT의 리스트를 만들어 최댓값 구하는 과정이 있어야한다.\n",
    "'''\n",
    "a, b = map(int,input().split())\n",
    "result = []\n",
    "res = '' # 실제로 출력하기 위한 string\n",
    "hd = 0   # 해밍 거리를 구하기 위한 integer\n",
    "\n",
    "for i in range(a):\n",
    "    result.append(input())\n",
    "\n",
    "# 열에 대한 최대값을 뽑아 새로운 스트링에 담는 과정\n",
    "for i in range(b):\n",
    "    cnt = [0,0,0,0] # 최대값을 비교하기 위한 리스트\n",
    "    for j in range(a):\n",
    "        if result[j][i] == 'A':\n",
    "            cnt[0] += 1\n",
    "        if result[j][i] == 'C':\n",
    "            cnt[1] += 1\n",
    "        if result[j][i] == 'G':\n",
    "            cnt[2] += 1\n",
    "        if result[j][i] == 'T':\n",
    "            cnt[3] += 1\n",
    "    Max = max(cnt) # 리스트중 최대값을 뽑기\n",
    "    idx = cnt.index(Max)\n",
    "    if idx == 0:\n",
    "        res += 'A'\n",
    "    elif idx == 1:\n",
    "        res += 'C'\n",
    "    elif idx == 2:\n",
    "        res += 'G'\n",
    "    elif idx == 3:\n",
    "        res += 'T'\n",
    "    hd += a - Max # 행에서 최댓값이 아닌 다른 수는 해밍거리이다.\n",
    "    \n",
    "print(res)\n",
    "print(hd)"
   ]
  },
  {
   "cell_type": "code",
   "execution_count": null,
   "metadata": {},
   "outputs": [],
   "source": []
  },
  {
   "cell_type": "code",
   "execution_count": null,
   "metadata": {},
   "outputs": [],
   "source": []
  }
 ],
 "metadata": {
  "kernelspec": {
   "display_name": "Python 3",
   "language": "python",
   "name": "python3"
  },
  "language_info": {
   "codemirror_mode": {
    "name": "ipython",
    "version": 3
   },
   "file_extension": ".py",
   "mimetype": "text/x-python",
   "name": "python",
   "nbconvert_exporter": "python",
   "pygments_lexer": "ipython3",
   "version": "3.8.3"
  }
 },
 "nbformat": 4,
 "nbformat_minor": 4
}
