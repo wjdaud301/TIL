{
 "cells": [
  {
   "cell_type": "code",
   "execution_count": 8,
   "metadata": {},
   "outputs": [
    {
     "name": "stdout",
     "output_type": "stream",
     "text": [
      "2 15\n",
      "2\n",
      "3\n",
      "5\n"
     ]
    }
   ],
   "source": [
    "a,b = map(int,input().split())\n",
    "array = []\n",
    "for i in range(a):\n",
    "    array.append(int(input()))\n",
    "    \n",
    "# 결과를 저장하기 위한 DP 테이블 초기화\n",
    "d = [10001] * (b + 1)\n",
    "\n",
    "# 다이나믹 프로그래밍 진행 (bottom-up)\n",
    "d[0] = 0\n",
    "for i in range(a):\n",
    "    for j in range(array[i], b+1):\n",
    "        if d[j-array[i]] != 10001:\n",
    "            d[j] = min(d[j], d[j-array[i]]+1)\n",
    "            \n",
    "if d[b] == 10001:\n",
    "    print(-1)\n",
    "else:\n",
    "    print(d[b])\n"
   ]
  },
  {
   "cell_type": "code",
   "execution_count": null,
   "metadata": {},
   "outputs": [],
   "source": []
  }
 ],
 "metadata": {
  "kernelspec": {
   "display_name": "Python 3",
   "language": "python",
   "name": "python3"
  },
  "language_info": {
   "codemirror_mode": {
    "name": "ipython",
    "version": 3
   },
   "file_extension": ".py",
   "mimetype": "text/x-python",
   "name": "python",
   "nbconvert_exporter": "python",
   "pygments_lexer": "ipython3",
   "version": "3.6.12"
  }
 },
 "nbformat": 4,
 "nbformat_minor": 4
}
