{
 "cells": [
  {
   "cell_type": "code",
   "execution_count": 4,
   "metadata": {},
   "outputs": [
    {
     "name": "stdout",
     "output_type": "stream",
     "text": [
      "자바 기초 프로그래밍 강좌를 완강했습니다.\n",
      "컴잘알에 오신 것을 환영합니다.\n"
     ]
    }
   ],
   "source": [
    "import requests\n",
    "from bs4 import BeautifulSoup\n",
    "\n",
    "# 특정 URL에 접속하는 요청(Request) 객체를 생성합니다\n",
    "\n",
    "request = requests.get(\"http://www.dowellcomputer.com/main.jsp\")\n",
    "\n",
    "# 접속한 이후의 웹 사이트 소스코드를 추출\n",
    "html = request.text\n",
    "\n",
    "# HTML 소스코드를 파이썬 객체로 변환\n",
    "soup = BeautifulSoup(html, 'html.parser')\n",
    "\n",
    "# <a> 태그 포함하는 요소를 추출\n",
    "links = soup.select('td>a')\n",
    "\n",
    "# 모든 링크에 하나씩 접근합니다\n",
    "for link in links:\n",
    "    # 링크가 href 속성을 가지고 있다면\n",
    "    if link.has_attr('href'):\n",
    "        # href 속성의 값으로 notice라는 문자열이 포함되어 있다면\n",
    "        if link.get('href').find('notice') != -1:\n",
    "            print(link.text)\n",
    "            \n",
    "        \n"
   ]
  },
  {
   "cell_type": "code",
   "execution_count": null,
   "metadata": {},
   "outputs": [],
   "source": []
  }
 ],
 "metadata": {
  "kernelspec": {
   "display_name": "Python 3",
   "language": "python",
   "name": "python3"
  },
  "language_info": {
   "codemirror_mode": {
    "name": "ipython",
    "version": 3
   },
   "file_extension": ".py",
   "mimetype": "text/x-python",
   "name": "python",
   "nbconvert_exporter": "python",
   "pygments_lexer": "ipython3",
   "version": "3.8.3"
  }
 },
 "nbformat": 4,
 "nbformat_minor": 4
}
