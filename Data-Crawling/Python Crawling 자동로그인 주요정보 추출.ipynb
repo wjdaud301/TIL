{
 "cells": [
  {
   "cell_type": "code",
   "execution_count": null,
   "metadata": {},
   "outputs": [],
   "source": [
    "import requests\n",
    "from bs4 import BeautifulSoup\n",
    "\n",
    "MEMBER_DATA = {\n",
    "    'memberID' ='a'\n",
    "    'memberPassword'= 'a'\n",
    "}\n",
    "\n",
    "# 하나의 세션(Session) 객체를 생성해 일시적으로 유지합니다.\n",
    "with requests.Session() as s:\n",
    "    # 로그인 페이지로의 POST 요청(Request) 객체를 생성합니다\n",
    "    request = s.post('http://dowellcomputer.com/member/memberLoginAction.jsp',data=MEMBER_DATA)\n",
    "    \n",
    "print(request.text)\n",
    "\n",
    "request = s.get('받아오고자하는 주소')\n",
    "soup = bs(request.text, 'html.parser')\n",
    "\n",
    "result = soup.findAll('input',{'name':\"memverEmail\"})\n",
    "print(result[0].get('value'))"
   ]
  }
 ],
 "metadata": {
  "kernelspec": {
   "display_name": "Python 3",
   "language": "python",
   "name": "python3"
  },
  "language_info": {
   "codemirror_mode": {
    "name": "ipython",
    "version": 3
   },
   "file_extension": ".py",
   "mimetype": "text/x-python",
   "name": "python",
   "nbconvert_exporter": "python",
   "pygments_lexer": "ipython3",
   "version": "3.8.3"
  }
 },
 "nbformat": 4,
 "nbformat_minor": 4
}
