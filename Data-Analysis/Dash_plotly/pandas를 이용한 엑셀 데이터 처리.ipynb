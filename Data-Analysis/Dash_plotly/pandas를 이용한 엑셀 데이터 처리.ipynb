{
 "cells": [
  {
   "cell_type": "markdown",
   "id": "89687dbd-3497-4975-9aea-39b5e113e671",
   "metadata": {},
   "source": [
    "* 점포 별 판매량의 추이를 그래프로 표현!\n",
    "* 상품의 종류를 나누어 표현 !\n",
    "* 가장 많이 팔린 점포만 확인!"
   ]
  },
  {
   "cell_type": "code",
   "execution_count": 54,
   "id": "6e46c0e5-0df2-4bff-90fa-2afa2c31a21c",
   "metadata": {},
   "outputs": [],
   "source": [
    "import pandas as pd\n",
    "import numpy as np\n",
    "import seaborn as sns\n",
    "import matplotlib as mpl\n",
    "import matplotlib.pyplot as plt\n",
    "\n",
    "mpl.rc('font', family='Malgun Gothic')"
   ]
  },
  {
   "cell_type": "code",
   "execution_count": 56,
   "id": "f7246fa6-e256-4ae4-9466-fce008f8478d",
   "metadata": {},
   "outputs": [],
   "source": [
    "# 음료회사 dataset\n",
    "df1 = pd.read_csv('Data09.csv',encoding='cp949')"
   ]
  },
  {
   "cell_type": "code",
   "execution_count": 58,
   "id": "9ed10ef1-fc57-4cb9-87c1-bd63879bd13e",
   "metadata": {},
   "outputs": [
    {
     "output_type": "execute_result",
     "data": {
      "text/plain": [
       "(117, 646)"
      ]
     },
     "metadata": {},
     "execution_count": 58
    }
   ],
   "source": [
    "df1.shape"
   ]
  },
  {
   "cell_type": "code",
   "execution_count": 60,
   "id": "5c9d2d1d-6798-4a68-923a-a8a6311a4b68",
   "metadata": {},
   "outputs": [
    {
     "output_type": "execute_result",
     "data": {
      "text/plain": [
       "    순번        상품코드             상품명         합계 (1154)의정부점 (1155)별내점 (1156)풍산점  \\\n",
       "0  NaN         NaN             NaN         수량         수량        수량        수량   \n",
       "1  NaN         NaN             합 계  2,029,096      6,829     8,374    12,626   \n",
       "2  1.0   1801828.0  BW1 473ml캔(수입)     65,402        174       239       432   \n",
       "3  2.0   1801859.0  BW1 355ml (낱캔)          1          0         0         0   \n",
       "4  3.0  40786179.0        RB 500ml      2,158          4         9        10   \n",
       "\n",
       "  (1157)김포한강점 (1158)세종점 (1159)킨텍스점  ... (L21)위시티점 (L23)걸포동점 (L27)통일동산점  \\\n",
       "0          수량        수량         수량  ...        수량        수량         수량   \n",
       "1      11,767    10,912      7,062  ...     2,392     1,291      4,506   \n",
       "2         199       220        263  ...         0        25         76   \n",
       "3           0         0          0  ...         0         0          0   \n",
       "4          27         0         11  ...         0         0          0   \n",
       "\n",
       "  (L35)성대점 (L36)병점점 (L38)율전점 (L39)본오점 (L40)검암점 (L44)신길점 (L46)용호점  \n",
       "0       수량       수량       수량       수량       수량       수량       수량  \n",
       "1    2,364    2,739    1,782    3,129    1,712    3,189    2,347  \n",
       "2       72       54       72       15       38       27       89  \n",
       "3        0        0        0        0        0        0        0  \n",
       "4        0        0        0        0        0        0        0  \n",
       "\n",
       "[5 rows x 646 columns]"
      ],
      "text/html": "<div>\n<style scoped>\n    .dataframe tbody tr th:only-of-type {\n        vertical-align: middle;\n    }\n\n    .dataframe tbody tr th {\n        vertical-align: top;\n    }\n\n    .dataframe thead th {\n        text-align: right;\n    }\n</style>\n<table border=\"1\" class=\"dataframe\">\n  <thead>\n    <tr style=\"text-align: right;\">\n      <th></th>\n      <th>순번</th>\n      <th>상품코드</th>\n      <th>상품명</th>\n      <th>합계</th>\n      <th>(1154)의정부점</th>\n      <th>(1155)별내점</th>\n      <th>(1156)풍산점</th>\n      <th>(1157)김포한강점</th>\n      <th>(1158)세종점</th>\n      <th>(1159)킨텍스점</th>\n      <th>...</th>\n      <th>(L21)위시티점</th>\n      <th>(L23)걸포동점</th>\n      <th>(L27)통일동산점</th>\n      <th>(L35)성대점</th>\n      <th>(L36)병점점</th>\n      <th>(L38)율전점</th>\n      <th>(L39)본오점</th>\n      <th>(L40)검암점</th>\n      <th>(L44)신길점</th>\n      <th>(L46)용호점</th>\n    </tr>\n  </thead>\n  <tbody>\n    <tr>\n      <th>0</th>\n      <td>NaN</td>\n      <td>NaN</td>\n      <td>NaN</td>\n      <td>수량</td>\n      <td>수량</td>\n      <td>수량</td>\n      <td>수량</td>\n      <td>수량</td>\n      <td>수량</td>\n      <td>수량</td>\n      <td>...</td>\n      <td>수량</td>\n      <td>수량</td>\n      <td>수량</td>\n      <td>수량</td>\n      <td>수량</td>\n      <td>수량</td>\n      <td>수량</td>\n      <td>수량</td>\n      <td>수량</td>\n      <td>수량</td>\n    </tr>\n    <tr>\n      <th>1</th>\n      <td>NaN</td>\n      <td>NaN</td>\n      <td>합 계</td>\n      <td>2,029,096</td>\n      <td>6,829</td>\n      <td>8,374</td>\n      <td>12,626</td>\n      <td>11,767</td>\n      <td>10,912</td>\n      <td>7,062</td>\n      <td>...</td>\n      <td>2,392</td>\n      <td>1,291</td>\n      <td>4,506</td>\n      <td>2,364</td>\n      <td>2,739</td>\n      <td>1,782</td>\n      <td>3,129</td>\n      <td>1,712</td>\n      <td>3,189</td>\n      <td>2,347</td>\n    </tr>\n    <tr>\n      <th>2</th>\n      <td>1.0</td>\n      <td>1801828.0</td>\n      <td>BW1 473ml캔(수입)</td>\n      <td>65,402</td>\n      <td>174</td>\n      <td>239</td>\n      <td>432</td>\n      <td>199</td>\n      <td>220</td>\n      <td>263</td>\n      <td>...</td>\n      <td>0</td>\n      <td>25</td>\n      <td>76</td>\n      <td>72</td>\n      <td>54</td>\n      <td>72</td>\n      <td>15</td>\n      <td>38</td>\n      <td>27</td>\n      <td>89</td>\n    </tr>\n    <tr>\n      <th>3</th>\n      <td>2.0</td>\n      <td>1801859.0</td>\n      <td>BW1 355ml (낱캔)</td>\n      <td>1</td>\n      <td>0</td>\n      <td>0</td>\n      <td>0</td>\n      <td>0</td>\n      <td>0</td>\n      <td>0</td>\n      <td>...</td>\n      <td>0</td>\n      <td>0</td>\n      <td>0</td>\n      <td>0</td>\n      <td>0</td>\n      <td>0</td>\n      <td>0</td>\n      <td>0</td>\n      <td>0</td>\n      <td>0</td>\n    </tr>\n    <tr>\n      <th>4</th>\n      <td>3.0</td>\n      <td>40786179.0</td>\n      <td>RB 500ml</td>\n      <td>2,158</td>\n      <td>4</td>\n      <td>9</td>\n      <td>10</td>\n      <td>27</td>\n      <td>0</td>\n      <td>11</td>\n      <td>...</td>\n      <td>0</td>\n      <td>0</td>\n      <td>0</td>\n      <td>0</td>\n      <td>0</td>\n      <td>0</td>\n      <td>0</td>\n      <td>0</td>\n      <td>0</td>\n      <td>0</td>\n    </tr>\n  </tbody>\n</table>\n<p>5 rows × 646 columns</p>\n</div>"
     },
     "metadata": {},
     "execution_count": 60
    }
   ],
   "source": [
    "df1.head()"
   ]
  },
  {
   "cell_type": "code",
   "execution_count": 62,
   "id": "2e0dbeca-88c0-498e-a187-ca72f4dd2ec6",
   "metadata": {},
   "outputs": [
    {
     "output_type": "execute_result",
     "data": {
      "text/plain": [
       "Index(['순번', '상품코드', '상품명', ' 합계', '(1154)의정부점', '(1155)별내점', '(1156)풍산점',\n",
       "       '(1157)김포한강점', '(1158)세종점', '(1159)킨텍스점',\n",
       "       ...\n",
       "       '(L21)위시티점', '(L23)걸포동점', '(L27)통일동산점', '(L35)성대점', '(L36)병점점',\n",
       "       '(L38)율전점', '(L39)본오점', '(L40)검암점', '(L44)신길점', '(L46)용호점'],\n",
       "      dtype='object', length=646)"
      ]
     },
     "metadata": {},
     "execution_count": 62
    }
   ],
   "source": [
    "# column 이름\n",
    "df1.columns"
   ]
  },
  {
   "cell_type": "markdown",
   "id": "fb75f91d-1b8d-4443-b800-9f9340ba9fdf",
   "metadata": {},
   "source": [
    "### **Pandas stack**"
   ]
  },
  {
   "cell_type": "code",
   "execution_count": 64,
   "id": "83d05819-f828-4545-9830-e81ce03a72d6",
   "metadata": {},
   "outputs": [],
   "source": [
    "# 순번과 상품코드를 없앤 데이터프레임 생성하기\n",
    "stack_data = df1.drop(columns=['순번','상품코드']).set_index('상품명').stack()"
   ]
  },
  {
   "cell_type": "code",
   "execution_count": 66,
   "id": "03d5224a-63e9-499e-b660-df20f8f4f0b8",
   "metadata": {},
   "outputs": [
    {
     "output_type": "execute_result",
     "data": {
      "text/plain": [
       "             상품명      level_1   0\n",
       "0            NaN           합계  수량\n",
       "1            NaN   (1154)의정부점  수량\n",
       "2            NaN    (1155)별내점  수량\n",
       "3            NaN    (1156)풍산점  수량\n",
       "4            NaN  (1157)김포한강점  수량\n",
       "...          ...          ...  ..\n",
       "75226  CAT1 1.6L     (L38)율전점  54\n",
       "75227  CAT1 1.6L     (L39)본오점  28\n",
       "75228  CAT1 1.6L     (L40)검암점   9\n",
       "75229  CAT1 1.6L     (L44)신길점  28\n",
       "75230  CAT1 1.6L     (L46)용호점  24\n",
       "\n",
       "[75231 rows x 3 columns]"
      ],
      "text/html": "<div>\n<style scoped>\n    .dataframe tbody tr th:only-of-type {\n        vertical-align: middle;\n    }\n\n    .dataframe tbody tr th {\n        vertical-align: top;\n    }\n\n    .dataframe thead th {\n        text-align: right;\n    }\n</style>\n<table border=\"1\" class=\"dataframe\">\n  <thead>\n    <tr style=\"text-align: right;\">\n      <th></th>\n      <th>상품명</th>\n      <th>level_1</th>\n      <th>0</th>\n    </tr>\n  </thead>\n  <tbody>\n    <tr>\n      <th>0</th>\n      <td>NaN</td>\n      <td>합계</td>\n      <td>수량</td>\n    </tr>\n    <tr>\n      <th>1</th>\n      <td>NaN</td>\n      <td>(1154)의정부점</td>\n      <td>수량</td>\n    </tr>\n    <tr>\n      <th>2</th>\n      <td>NaN</td>\n      <td>(1155)별내점</td>\n      <td>수량</td>\n    </tr>\n    <tr>\n      <th>3</th>\n      <td>NaN</td>\n      <td>(1156)풍산점</td>\n      <td>수량</td>\n    </tr>\n    <tr>\n      <th>4</th>\n      <td>NaN</td>\n      <td>(1157)김포한강점</td>\n      <td>수량</td>\n    </tr>\n    <tr>\n      <th>...</th>\n      <td>...</td>\n      <td>...</td>\n      <td>...</td>\n    </tr>\n    <tr>\n      <th>75226</th>\n      <td>CAT1 1.6L</td>\n      <td>(L38)율전점</td>\n      <td>54</td>\n    </tr>\n    <tr>\n      <th>75227</th>\n      <td>CAT1 1.6L</td>\n      <td>(L39)본오점</td>\n      <td>28</td>\n    </tr>\n    <tr>\n      <th>75228</th>\n      <td>CAT1 1.6L</td>\n      <td>(L40)검암점</td>\n      <td>9</td>\n    </tr>\n    <tr>\n      <th>75229</th>\n      <td>CAT1 1.6L</td>\n      <td>(L44)신길점</td>\n      <td>28</td>\n    </tr>\n    <tr>\n      <th>75230</th>\n      <td>CAT1 1.6L</td>\n      <td>(L46)용호점</td>\n      <td>24</td>\n    </tr>\n  </tbody>\n</table>\n<p>75231 rows × 3 columns</p>\n</div>"
     },
     "metadata": {},
     "execution_count": 66
    }
   ],
   "source": [
    "df2 = pd.DataFrame(stack_data).reset_index()\n",
    "df2"
   ]
  },
  {
   "cell_type": "markdown",
   "id": "e30ade36-7f8e-47c9-bdb2-5eaf07e1926d",
   "metadata": {},
   "source": [
    "### **Pandas Melt**"
   ]
  },
  {
   "cell_type": "code",
   "execution_count": 68,
   "id": "e7450eaf-589a-4e01-a027-09322622b619",
   "metadata": {},
   "outputs": [],
   "source": [
    "region_list = df1.columns.tolist()[4:]"
   ]
  },
  {
   "cell_type": "code",
   "execution_count": 70,
   "id": "1461e5e1-9905-4cde-8bdf-266b95cd847c",
   "metadata": {},
   "outputs": [
    {
     "output_type": "execute_result",
     "data": {
      "text/plain": [
       "                            상품명    variable  value\n",
       "0                           NaN  (1154)의정부점     수량\n",
       "1                           합 계  (1154)의정부점  6,829\n",
       "2                BW1 473ml캔(수입)  (1154)의정부점    174\n",
       "3                BW1 355ml (낱캔)  (1154)의정부점      0\n",
       "4                      RB 500ml  (1154)의정부점      4\n",
       "...                         ...         ...    ...\n",
       "75109  CAT1 355ml*12캔+카카오 에코백+치    (L46)용호점      0\n",
       "75110     CAT2 355*24캔 + 진라면 6캔    (L46)용호점      0\n",
       "75111               CAT2 1.6L*6    (L46)용호점      0\n",
       "75112                 CAT2 1.6L    (L46)용호점    122\n",
       "75113                 CAT1 1.6L    (L46)용호점     24\n",
       "\n",
       "[75114 rows x 3 columns]"
      ],
      "text/html": "<div>\n<style scoped>\n    .dataframe tbody tr th:only-of-type {\n        vertical-align: middle;\n    }\n\n    .dataframe tbody tr th {\n        vertical-align: top;\n    }\n\n    .dataframe thead th {\n        text-align: right;\n    }\n</style>\n<table border=\"1\" class=\"dataframe\">\n  <thead>\n    <tr style=\"text-align: right;\">\n      <th></th>\n      <th>상품명</th>\n      <th>variable</th>\n      <th>value</th>\n    </tr>\n  </thead>\n  <tbody>\n    <tr>\n      <th>0</th>\n      <td>NaN</td>\n      <td>(1154)의정부점</td>\n      <td>수량</td>\n    </tr>\n    <tr>\n      <th>1</th>\n      <td>합 계</td>\n      <td>(1154)의정부점</td>\n      <td>6,829</td>\n    </tr>\n    <tr>\n      <th>2</th>\n      <td>BW1 473ml캔(수입)</td>\n      <td>(1154)의정부점</td>\n      <td>174</td>\n    </tr>\n    <tr>\n      <th>3</th>\n      <td>BW1 355ml (낱캔)</td>\n      <td>(1154)의정부점</td>\n      <td>0</td>\n    </tr>\n    <tr>\n      <th>4</th>\n      <td>RB 500ml</td>\n      <td>(1154)의정부점</td>\n      <td>4</td>\n    </tr>\n    <tr>\n      <th>...</th>\n      <td>...</td>\n      <td>...</td>\n      <td>...</td>\n    </tr>\n    <tr>\n      <th>75109</th>\n      <td>CAT1 355ml*12캔+카카오 에코백+치</td>\n      <td>(L46)용호점</td>\n      <td>0</td>\n    </tr>\n    <tr>\n      <th>75110</th>\n      <td>CAT2 355*24캔 + 진라면 6캔</td>\n      <td>(L46)용호점</td>\n      <td>0</td>\n    </tr>\n    <tr>\n      <th>75111</th>\n      <td>CAT2 1.6L*6</td>\n      <td>(L46)용호점</td>\n      <td>0</td>\n    </tr>\n    <tr>\n      <th>75112</th>\n      <td>CAT2 1.6L</td>\n      <td>(L46)용호점</td>\n      <td>122</td>\n    </tr>\n    <tr>\n      <th>75113</th>\n      <td>CAT1 1.6L</td>\n      <td>(L46)용호점</td>\n      <td>24</td>\n    </tr>\n  </tbody>\n</table>\n<p>75114 rows × 3 columns</p>\n</div>"
     },
     "metadata": {},
     "execution_count": 70
    }
   ],
   "source": [
    "pd.melt(df1, id_vars=['상품명'], value_vars=region_list)"
   ]
  },
  {
   "cell_type": "markdown",
   "id": "d579c972-52f7-4dad-b370-cc53617224d9",
   "metadata": {},
   "source": [
    "* 상품명 missing value 제거하기"
   ]
  },
  {
   "cell_type": "code",
   "execution_count": 72,
   "id": "bfd13d51-5e22-45ec-9743-3b71ac9836ce",
   "metadata": {},
   "outputs": [
    {
     "output_type": "execute_result",
     "data": {
      "text/plain": [
       "                  상품명          점포명  판매량\n",
       "1287   BW1 473ml캔(수입)   (1154)의정부점  174\n",
       "1288   BW1 473ml캔(수입)    (1155)별내점  239\n",
       "1289   BW1 473ml캔(수입)    (1156)풍산점  432\n",
       "1290   BW1 473ml캔(수입)  (1157)김포한강점  199\n",
       "1291   BW1 473ml캔(수입)    (1158)세종점  220\n",
       "...               ...          ...  ...\n",
       "75226       CAT1 1.6L     (L38)율전점   54\n",
       "75227       CAT1 1.6L     (L39)본오점   28\n",
       "75228       CAT1 1.6L     (L40)검암점    9\n",
       "75229       CAT1 1.6L     (L44)신길점   28\n",
       "75230       CAT1 1.6L     (L46)용호점   24\n",
       "\n",
       "[73830 rows x 3 columns]"
      ],
      "text/html": "<div>\n<style scoped>\n    .dataframe tbody tr th:only-of-type {\n        vertical-align: middle;\n    }\n\n    .dataframe tbody tr th {\n        vertical-align: top;\n    }\n\n    .dataframe thead th {\n        text-align: right;\n    }\n</style>\n<table border=\"1\" class=\"dataframe\">\n  <thead>\n    <tr style=\"text-align: right;\">\n      <th></th>\n      <th>상품명</th>\n      <th>점포명</th>\n      <th>판매량</th>\n    </tr>\n  </thead>\n  <tbody>\n    <tr>\n      <th>1287</th>\n      <td>BW1 473ml캔(수입)</td>\n      <td>(1154)의정부점</td>\n      <td>174</td>\n    </tr>\n    <tr>\n      <th>1288</th>\n      <td>BW1 473ml캔(수입)</td>\n      <td>(1155)별내점</td>\n      <td>239</td>\n    </tr>\n    <tr>\n      <th>1289</th>\n      <td>BW1 473ml캔(수입)</td>\n      <td>(1156)풍산점</td>\n      <td>432</td>\n    </tr>\n    <tr>\n      <th>1290</th>\n      <td>BW1 473ml캔(수입)</td>\n      <td>(1157)김포한강점</td>\n      <td>199</td>\n    </tr>\n    <tr>\n      <th>1291</th>\n      <td>BW1 473ml캔(수입)</td>\n      <td>(1158)세종점</td>\n      <td>220</td>\n    </tr>\n    <tr>\n      <th>...</th>\n      <td>...</td>\n      <td>...</td>\n      <td>...</td>\n    </tr>\n    <tr>\n      <th>75226</th>\n      <td>CAT1 1.6L</td>\n      <td>(L38)율전점</td>\n      <td>54</td>\n    </tr>\n    <tr>\n      <th>75227</th>\n      <td>CAT1 1.6L</td>\n      <td>(L39)본오점</td>\n      <td>28</td>\n    </tr>\n    <tr>\n      <th>75228</th>\n      <td>CAT1 1.6L</td>\n      <td>(L40)검암점</td>\n      <td>9</td>\n    </tr>\n    <tr>\n      <th>75229</th>\n      <td>CAT1 1.6L</td>\n      <td>(L44)신길점</td>\n      <td>28</td>\n    </tr>\n    <tr>\n      <th>75230</th>\n      <td>CAT1 1.6L</td>\n      <td>(L46)용호점</td>\n      <td>24</td>\n    </tr>\n  </tbody>\n</table>\n<p>73830 rows × 3 columns</p>\n</div>"
     },
     "metadata": {},
     "execution_count": 72
    }
   ],
   "source": [
    "# ~ : 상품명이 null이 아닌 값을 찾기\n",
    "cond1 = df2['상품명'].isnull()\n",
    "cond2 = df2['상품명'] != '합 계'\n",
    "cond3 = df2['level_1'] != ' 합계'\n",
    "df3 = df2.loc[(~cond1) & (cond2) & (cond3)]\n",
    "df4 = df3.rename(columns={'level_1':'점포명',0:'판매량'})\n",
    "df4"
   ]
  },
  {
   "cell_type": "markdown",
   "id": "3cf0b37a-152a-47f1-81bd-7d1e1cc5097f",
   "metadata": {},
   "source": [
    "* 제품별 분류하기 (label)"
   ]
  },
  {
   "cell_type": "code",
   "execution_count": 74,
   "id": "c908aba2-6072-4764-aa69-9fae73d6a036",
   "metadata": {},
   "outputs": [],
   "source": [
    "def func1(row):\n",
    "    if 'CAT' in row:\n",
    "        return 'C Type'\n",
    "    elif 'STL' in row:\n",
    "        return 'S Type'\n",
    "    elif 'BW' in row:\n",
    "        return 'B Type'\n",
    "    else:\n",
    "        return 'Non Type'"
   ]
  },
  {
   "cell_type": "code",
   "execution_count": 76,
   "id": "85115773-3627-4892-a414-7ba99b928d22",
   "metadata": {},
   "outputs": [],
   "source": [
    "df4['제품군'] = df4['상품명'].apply(func1)"
   ]
  },
  {
   "cell_type": "code",
   "execution_count": 78,
   "id": "94f2e674-c60f-4c28-b466-3034f372b60e",
   "metadata": {},
   "outputs": [
    {
     "output_type": "execute_result",
     "data": {
      "text/plain": [
       "Non Type    44298\n",
       "C Type      17334\n",
       "B Type       6420\n",
       "S Type       5778\n",
       "Name: 제품군, dtype: int64"
      ]
     },
     "metadata": {},
     "execution_count": 78
    }
   ],
   "source": [
    "df4['제품군'].value_counts()"
   ]
  },
  {
   "cell_type": "code",
   "execution_count": 80,
   "id": "31ed462c-0ede-4157-b937-e30342c241f8",
   "metadata": {},
   "outputs": [],
   "source": [
    "# non type이 아닌 제품군 확인\n",
    "cond1 = df4['제품군'] != 'Non Type'\n",
    "df5 = df4.loc[cond1]"
   ]
  },
  {
   "cell_type": "code",
   "execution_count": null,
   "id": "b4e54a46-2601-48eb-9169-9438d8dceee7",
   "metadata": {},
   "outputs": [],
   "source": [
    "# 데이터 전처리 후 info까지 확인해야한다.\n",
    "df5.info()"
   ]
  },
  {
   "cell_type": "code",
   "execution_count": 81,
   "id": "c5b2cb08-7e85-42e9-81e7-32520b5cc529",
   "metadata": {},
   "outputs": [
    {
     "output_type": "error",
     "ename": "ValueError",
     "evalue": "invalid literal for int() with base 10: '1,000'",
     "traceback": [
      "\u001b[1;31m---------------------------------------------------------------------------\u001b[0m",
      "\u001b[1;31mValueError\u001b[0m                                Traceback (most recent call last)",
      "\u001b[1;32m<ipython-input-81-df4efdb1f16f>\u001b[0m in \u001b[0;36m<module>\u001b[1;34m\u001b[0m\n\u001b[0;32m      1\u001b[0m \u001b[1;31m# 판매량이 object -> integer로 변환\u001b[0m\u001b[1;33m\u001b[0m\u001b[1;33m\u001b[0m\u001b[1;33m\u001b[0m\u001b[0m\n\u001b[1;32m----> 2\u001b[1;33m \u001b[0mdf5\u001b[0m\u001b[1;33m[\u001b[0m\u001b[1;34m'판매량'\u001b[0m\u001b[1;33m]\u001b[0m\u001b[1;33m.\u001b[0m\u001b[0mastype\u001b[0m\u001b[1;33m(\u001b[0m\u001b[0mint\u001b[0m\u001b[1;33m)\u001b[0m\u001b[1;33m\u001b[0m\u001b[1;33m\u001b[0m\u001b[0m\n\u001b[0m",
      "\u001b[1;32mC:\\ananconda\\envs\\multi\\lib\\site-packages\\pandas\\core\\generic.py\u001b[0m in \u001b[0;36mastype\u001b[1;34m(self, dtype, copy, errors)\u001b[0m\n\u001b[0;32m   5875\u001b[0m         \u001b[1;32melse\u001b[0m\u001b[1;33m:\u001b[0m\u001b[1;33m\u001b[0m\u001b[1;33m\u001b[0m\u001b[0m\n\u001b[0;32m   5876\u001b[0m             \u001b[1;31m# else, only a single dtype is given\u001b[0m\u001b[1;33m\u001b[0m\u001b[1;33m\u001b[0m\u001b[1;33m\u001b[0m\u001b[0m\n\u001b[1;32m-> 5877\u001b[1;33m             \u001b[0mnew_data\u001b[0m \u001b[1;33m=\u001b[0m \u001b[0mself\u001b[0m\u001b[1;33m.\u001b[0m\u001b[0m_mgr\u001b[0m\u001b[1;33m.\u001b[0m\u001b[0mastype\u001b[0m\u001b[1;33m(\u001b[0m\u001b[0mdtype\u001b[0m\u001b[1;33m=\u001b[0m\u001b[0mdtype\u001b[0m\u001b[1;33m,\u001b[0m \u001b[0mcopy\u001b[0m\u001b[1;33m=\u001b[0m\u001b[0mcopy\u001b[0m\u001b[1;33m,\u001b[0m \u001b[0merrors\u001b[0m\u001b[1;33m=\u001b[0m\u001b[0merrors\u001b[0m\u001b[1;33m)\u001b[0m\u001b[1;33m\u001b[0m\u001b[1;33m\u001b[0m\u001b[0m\n\u001b[0m\u001b[0;32m   5878\u001b[0m             \u001b[1;32mreturn\u001b[0m \u001b[0mself\u001b[0m\u001b[1;33m.\u001b[0m\u001b[0m_constructor\u001b[0m\u001b[1;33m(\u001b[0m\u001b[0mnew_data\u001b[0m\u001b[1;33m)\u001b[0m\u001b[1;33m.\u001b[0m\u001b[0m__finalize__\u001b[0m\u001b[1;33m(\u001b[0m\u001b[0mself\u001b[0m\u001b[1;33m,\u001b[0m \u001b[0mmethod\u001b[0m\u001b[1;33m=\u001b[0m\u001b[1;34m\"astype\"\u001b[0m\u001b[1;33m)\u001b[0m\u001b[1;33m\u001b[0m\u001b[1;33m\u001b[0m\u001b[0m\n\u001b[0;32m   5879\u001b[0m \u001b[1;33m\u001b[0m\u001b[0m\n",
      "\u001b[1;32mC:\\ananconda\\envs\\multi\\lib\\site-packages\\pandas\\core\\internals\\managers.py\u001b[0m in \u001b[0;36mastype\u001b[1;34m(self, dtype, copy, errors)\u001b[0m\n\u001b[0;32m    629\u001b[0m         \u001b[0mself\u001b[0m\u001b[1;33m,\u001b[0m \u001b[0mdtype\u001b[0m\u001b[1;33m,\u001b[0m \u001b[0mcopy\u001b[0m\u001b[1;33m:\u001b[0m \u001b[0mbool\u001b[0m \u001b[1;33m=\u001b[0m \u001b[1;32mFalse\u001b[0m\u001b[1;33m,\u001b[0m \u001b[0merrors\u001b[0m\u001b[1;33m:\u001b[0m \u001b[0mstr\u001b[0m \u001b[1;33m=\u001b[0m \u001b[1;34m\"raise\"\u001b[0m\u001b[1;33m\u001b[0m\u001b[1;33m\u001b[0m\u001b[0m\n\u001b[0;32m    630\u001b[0m     ) -> \"BlockManager\":\n\u001b[1;32m--> 631\u001b[1;33m         \u001b[1;32mreturn\u001b[0m \u001b[0mself\u001b[0m\u001b[1;33m.\u001b[0m\u001b[0mapply\u001b[0m\u001b[1;33m(\u001b[0m\u001b[1;34m\"astype\"\u001b[0m\u001b[1;33m,\u001b[0m \u001b[0mdtype\u001b[0m\u001b[1;33m=\u001b[0m\u001b[0mdtype\u001b[0m\u001b[1;33m,\u001b[0m \u001b[0mcopy\u001b[0m\u001b[1;33m=\u001b[0m\u001b[0mcopy\u001b[0m\u001b[1;33m,\u001b[0m \u001b[0merrors\u001b[0m\u001b[1;33m=\u001b[0m\u001b[0merrors\u001b[0m\u001b[1;33m)\u001b[0m\u001b[1;33m\u001b[0m\u001b[1;33m\u001b[0m\u001b[0m\n\u001b[0m\u001b[0;32m    632\u001b[0m \u001b[1;33m\u001b[0m\u001b[0m\n\u001b[0;32m    633\u001b[0m     def convert(\n",
      "\u001b[1;32mC:\\ananconda\\envs\\multi\\lib\\site-packages\\pandas\\core\\internals\\managers.py\u001b[0m in \u001b[0;36mapply\u001b[1;34m(self, f, align_keys, ignore_failures, **kwargs)\u001b[0m\n\u001b[0;32m    425\u001b[0m                     \u001b[0mapplied\u001b[0m \u001b[1;33m=\u001b[0m \u001b[0mb\u001b[0m\u001b[1;33m.\u001b[0m\u001b[0mapply\u001b[0m\u001b[1;33m(\u001b[0m\u001b[0mf\u001b[0m\u001b[1;33m,\u001b[0m \u001b[1;33m**\u001b[0m\u001b[0mkwargs\u001b[0m\u001b[1;33m)\u001b[0m\u001b[1;33m\u001b[0m\u001b[1;33m\u001b[0m\u001b[0m\n\u001b[0;32m    426\u001b[0m                 \u001b[1;32melse\u001b[0m\u001b[1;33m:\u001b[0m\u001b[1;33m\u001b[0m\u001b[1;33m\u001b[0m\u001b[0m\n\u001b[1;32m--> 427\u001b[1;33m                     \u001b[0mapplied\u001b[0m \u001b[1;33m=\u001b[0m \u001b[0mgetattr\u001b[0m\u001b[1;33m(\u001b[0m\u001b[0mb\u001b[0m\u001b[1;33m,\u001b[0m \u001b[0mf\u001b[0m\u001b[1;33m)\u001b[0m\u001b[1;33m(\u001b[0m\u001b[1;33m**\u001b[0m\u001b[0mkwargs\u001b[0m\u001b[1;33m)\u001b[0m\u001b[1;33m\u001b[0m\u001b[1;33m\u001b[0m\u001b[0m\n\u001b[0m\u001b[0;32m    428\u001b[0m             \u001b[1;32mexcept\u001b[0m \u001b[1;33m(\u001b[0m\u001b[0mTypeError\u001b[0m\u001b[1;33m,\u001b[0m \u001b[0mNotImplementedError\u001b[0m\u001b[1;33m)\u001b[0m\u001b[1;33m:\u001b[0m\u001b[1;33m\u001b[0m\u001b[1;33m\u001b[0m\u001b[0m\n\u001b[0;32m    429\u001b[0m                 \u001b[1;32mif\u001b[0m \u001b[1;32mnot\u001b[0m \u001b[0mignore_failures\u001b[0m\u001b[1;33m:\u001b[0m\u001b[1;33m\u001b[0m\u001b[1;33m\u001b[0m\u001b[0m\n",
      "\u001b[1;32mC:\\ananconda\\envs\\multi\\lib\\site-packages\\pandas\\core\\internals\\blocks.py\u001b[0m in \u001b[0;36mastype\u001b[1;34m(self, dtype, copy, errors)\u001b[0m\n\u001b[0;32m    671\u001b[0m             \u001b[0mvals1d\u001b[0m \u001b[1;33m=\u001b[0m \u001b[0mvalues\u001b[0m\u001b[1;33m.\u001b[0m\u001b[0mravel\u001b[0m\u001b[1;33m(\u001b[0m\u001b[1;33m)\u001b[0m\u001b[1;33m\u001b[0m\u001b[1;33m\u001b[0m\u001b[0m\n\u001b[0;32m    672\u001b[0m             \u001b[1;32mtry\u001b[0m\u001b[1;33m:\u001b[0m\u001b[1;33m\u001b[0m\u001b[1;33m\u001b[0m\u001b[0m\n\u001b[1;32m--> 673\u001b[1;33m                 \u001b[0mvalues\u001b[0m \u001b[1;33m=\u001b[0m \u001b[0mastype_nansafe\u001b[0m\u001b[1;33m(\u001b[0m\u001b[0mvals1d\u001b[0m\u001b[1;33m,\u001b[0m \u001b[0mdtype\u001b[0m\u001b[1;33m,\u001b[0m \u001b[0mcopy\u001b[0m\u001b[1;33m=\u001b[0m\u001b[1;32mTrue\u001b[0m\u001b[1;33m)\u001b[0m\u001b[1;33m\u001b[0m\u001b[1;33m\u001b[0m\u001b[0m\n\u001b[0m\u001b[0;32m    674\u001b[0m             \u001b[1;32mexcept\u001b[0m \u001b[1;33m(\u001b[0m\u001b[0mValueError\u001b[0m\u001b[1;33m,\u001b[0m \u001b[0mTypeError\u001b[0m\u001b[1;33m)\u001b[0m\u001b[1;33m:\u001b[0m\u001b[1;33m\u001b[0m\u001b[1;33m\u001b[0m\u001b[0m\n\u001b[0;32m    675\u001b[0m                 \u001b[1;31m# e.g. astype_nansafe can fail on object-dtype of strings\u001b[0m\u001b[1;33m\u001b[0m\u001b[1;33m\u001b[0m\u001b[1;33m\u001b[0m\u001b[0m\n",
      "\u001b[1;32mC:\\ananconda\\envs\\multi\\lib\\site-packages\\pandas\\core\\dtypes\\cast.py\u001b[0m in \u001b[0;36mastype_nansafe\u001b[1;34m(arr, dtype, copy, skipna)\u001b[0m\n\u001b[0;32m   1072\u001b[0m         \u001b[1;31m# work around NumPy brokenness, #1987\u001b[0m\u001b[1;33m\u001b[0m\u001b[1;33m\u001b[0m\u001b[1;33m\u001b[0m\u001b[0m\n\u001b[0;32m   1073\u001b[0m         \u001b[1;32mif\u001b[0m \u001b[0mnp\u001b[0m\u001b[1;33m.\u001b[0m\u001b[0missubdtype\u001b[0m\u001b[1;33m(\u001b[0m\u001b[0mdtype\u001b[0m\u001b[1;33m.\u001b[0m\u001b[0mtype\u001b[0m\u001b[1;33m,\u001b[0m \u001b[0mnp\u001b[0m\u001b[1;33m.\u001b[0m\u001b[0minteger\u001b[0m\u001b[1;33m)\u001b[0m\u001b[1;33m:\u001b[0m\u001b[1;33m\u001b[0m\u001b[1;33m\u001b[0m\u001b[0m\n\u001b[1;32m-> 1074\u001b[1;33m             \u001b[1;32mreturn\u001b[0m \u001b[0mlib\u001b[0m\u001b[1;33m.\u001b[0m\u001b[0mastype_intsafe\u001b[0m\u001b[1;33m(\u001b[0m\u001b[0marr\u001b[0m\u001b[1;33m.\u001b[0m\u001b[0mravel\u001b[0m\u001b[1;33m(\u001b[0m\u001b[1;33m)\u001b[0m\u001b[1;33m,\u001b[0m \u001b[0mdtype\u001b[0m\u001b[1;33m)\u001b[0m\u001b[1;33m.\u001b[0m\u001b[0mreshape\u001b[0m\u001b[1;33m(\u001b[0m\u001b[0marr\u001b[0m\u001b[1;33m.\u001b[0m\u001b[0mshape\u001b[0m\u001b[1;33m)\u001b[0m\u001b[1;33m\u001b[0m\u001b[1;33m\u001b[0m\u001b[0m\n\u001b[0m\u001b[0;32m   1075\u001b[0m \u001b[1;33m\u001b[0m\u001b[0m\n\u001b[0;32m   1076\u001b[0m         \u001b[1;31m# if we have a datetime/timedelta array of objects\u001b[0m\u001b[1;33m\u001b[0m\u001b[1;33m\u001b[0m\u001b[1;33m\u001b[0m\u001b[0m\n",
      "\u001b[1;32mpandas\\_libs\\lib.pyx\u001b[0m in \u001b[0;36mpandas._libs.lib.astype_intsafe\u001b[1;34m()\u001b[0m\n",
      "\u001b[1;31mValueError\u001b[0m: invalid literal for int() with base 10: '1,000'"
     ]
    }
   ],
   "source": [
    "# 판매량이 object -> integer로 변환\n",
    "df5['판매량'].astype(int)"
   ]
  },
  {
   "cell_type": "code",
   "execution_count": 83,
   "id": "5d577ce0-1861-4c8e-8175-93442a7d228e",
   "metadata": {},
   "outputs": [
    {
     "output_type": "stream",
     "name": "stderr",
     "text": [
      "C:\\ananconda\\envs\\multi\\lib\\site-packages\\ipykernel_launcher.py:14: SettingWithCopyWarning: \nA value is trying to be set on a copy of a slice from a DataFrame.\nTry using .loc[row_indexer,col_indexer] = value instead\n\nSee the caveats in the documentation: https://pandas.pydata.org/pandas-docs/stable/user_guide/indexing.html#returning-a-view-versus-a-copy\n  \n"
     ]
    }
   ],
   "source": [
    "'''\n",
    "invalid literal for int() with base 10: '1,000\n",
    "쉼표때문에 object type 생성 따라서 ,를 제거해야한다\n",
    "''' \n",
    "\n",
    "def func2(row):\n",
    "    if len(row) > 3:\n",
    "        result = row.split(',')\n",
    "        return result[0] + result[1]\n",
    "    else:\n",
    "        return row\n",
    "\n",
    "\n",
    "df5['판매량(int)'] = df5['판매량'].apply(func2).astype(int)"
   ]
  },
  {
   "cell_type": "code",
   "execution_count": 84,
   "id": "968f19e2-2334-4d71-aae4-c2f5fba3cbe5",
   "metadata": {},
   "outputs": [
    {
     "output_type": "stream",
     "name": "stdout",
     "text": [
      "<class 'pandas.core.frame.DataFrame'>\nInt64Index: 29532 entries, 1287 to 75230\nData columns (total 5 columns):\n #   Column    Non-Null Count  Dtype \n---  ------    --------------  ----- \n 0   상품명       29532 non-null  object\n 1   점포명       29532 non-null  object\n 2   판매량       29532 non-null  object\n 3   제품군       29532 non-null  object\n 4   판매량(int)  29532 non-null  int32 \ndtypes: int32(1), object(4)\nmemory usage: 1.2+ MB\n"
     ]
    }
   ],
   "source": [
    "df5.info()"
   ]
  },
  {
   "cell_type": "markdown",
   "id": "285439c6-efcd-4b8d-b296-610bcf9c234b",
   "metadata": {},
   "source": [
    "#### 가장 많이 팔린 점포 수를 pivot_table를 통해서 만든다."
   ]
  },
  {
   "cell_type": "code",
   "execution_count": 85,
   "id": "71e8a33c-fa03-487a-8b78-3f889dae73d4",
   "metadata": {},
   "outputs": [
    {
     "output_type": "execute_result",
     "data": {
      "text/plain": [
       "             점포명     제품군  판매량(int)\n",
       "0     (1154)의정부점  B Type      1236\n",
       "1     (1154)의정부점  C Type      3119\n",
       "2     (1154)의정부점  S Type       434\n",
       "3      (1155)별내점  B Type       628\n",
       "4      (1155)별내점  C Type      4438\n",
       "...          ...     ...       ...\n",
       "1921    (L44)신길점  C Type      2473\n",
       "1922    (L44)신길점  S Type        52\n",
       "1923    (L46)용호점  B Type       236\n",
       "1924    (L46)용호점  C Type      1632\n",
       "1925    (L46)용호점  S Type       135\n",
       "\n",
       "[1926 rows x 3 columns]"
      ],
      "text/html": "<div>\n<style scoped>\n    .dataframe tbody tr th:only-of-type {\n        vertical-align: middle;\n    }\n\n    .dataframe tbody tr th {\n        vertical-align: top;\n    }\n\n    .dataframe thead th {\n        text-align: right;\n    }\n</style>\n<table border=\"1\" class=\"dataframe\">\n  <thead>\n    <tr style=\"text-align: right;\">\n      <th></th>\n      <th>점포명</th>\n      <th>제품군</th>\n      <th>판매량(int)</th>\n    </tr>\n  </thead>\n  <tbody>\n    <tr>\n      <th>0</th>\n      <td>(1154)의정부점</td>\n      <td>B Type</td>\n      <td>1236</td>\n    </tr>\n    <tr>\n      <th>1</th>\n      <td>(1154)의정부점</td>\n      <td>C Type</td>\n      <td>3119</td>\n    </tr>\n    <tr>\n      <th>2</th>\n      <td>(1154)의정부점</td>\n      <td>S Type</td>\n      <td>434</td>\n    </tr>\n    <tr>\n      <th>3</th>\n      <td>(1155)별내점</td>\n      <td>B Type</td>\n      <td>628</td>\n    </tr>\n    <tr>\n      <th>4</th>\n      <td>(1155)별내점</td>\n      <td>C Type</td>\n      <td>4438</td>\n    </tr>\n    <tr>\n      <th>...</th>\n      <td>...</td>\n      <td>...</td>\n      <td>...</td>\n    </tr>\n    <tr>\n      <th>1921</th>\n      <td>(L44)신길점</td>\n      <td>C Type</td>\n      <td>2473</td>\n    </tr>\n    <tr>\n      <th>1922</th>\n      <td>(L44)신길점</td>\n      <td>S Type</td>\n      <td>52</td>\n    </tr>\n    <tr>\n      <th>1923</th>\n      <td>(L46)용호점</td>\n      <td>B Type</td>\n      <td>236</td>\n    </tr>\n    <tr>\n      <th>1924</th>\n      <td>(L46)용호점</td>\n      <td>C Type</td>\n      <td>1632</td>\n    </tr>\n    <tr>\n      <th>1925</th>\n      <td>(L46)용호점</td>\n      <td>S Type</td>\n      <td>135</td>\n    </tr>\n  </tbody>\n</table>\n<p>1926 rows × 3 columns</p>\n</div>"
     },
     "metadata": {},
     "execution_count": 85
    }
   ],
   "source": [
    "df6 = pd.pivot_table(data=df5, index=['점포명','제품군'], \n",
    "               values='판매량(int)',aggfunc='sum').reset_index()\n",
    "df6"
   ]
  },
  {
   "cell_type": "code",
   "execution_count": 86,
   "id": "c13609de-6ba5-4f4f-8377-36fa0f4fb47a",
   "metadata": {},
   "outputs": [
    {
     "output_type": "execute_result",
     "data": {
      "text/plain": [
       "              점포명     제품군  판매량(int)\n",
       "1393     (610)부천점  C Type     13397\n",
       "1387     (600)안양점  C Type     11806\n",
       "1594     (966)성남점  C Type     11732\n",
       "1372     (550)은평점  C Type     10278\n",
       "1390     (601)시화점  C Type      9480\n",
       "...           ...     ...       ...\n",
       "1588     (963)수색점  C Type      2155\n",
       "706   (2674)동탄호수점  C Type      2151\n",
       "1355     (470)성수점  S Type      2147\n",
       "1356     (480)월배점  B Type      2140\n",
       "801      (380)가양점  B Type      2122\n",
       "\n",
       "[200 rows x 3 columns]"
      ],
      "text/html": "<div>\n<style scoped>\n    .dataframe tbody tr th:only-of-type {\n        vertical-align: middle;\n    }\n\n    .dataframe tbody tr th {\n        vertical-align: top;\n    }\n\n    .dataframe thead th {\n        text-align: right;\n    }\n</style>\n<table border=\"1\" class=\"dataframe\">\n  <thead>\n    <tr style=\"text-align: right;\">\n      <th></th>\n      <th>점포명</th>\n      <th>제품군</th>\n      <th>판매량(int)</th>\n    </tr>\n  </thead>\n  <tbody>\n    <tr>\n      <th>1393</th>\n      <td>(610)부천점</td>\n      <td>C Type</td>\n      <td>13397</td>\n    </tr>\n    <tr>\n      <th>1387</th>\n      <td>(600)안양점</td>\n      <td>C Type</td>\n      <td>11806</td>\n    </tr>\n    <tr>\n      <th>1594</th>\n      <td>(966)성남점</td>\n      <td>C Type</td>\n      <td>11732</td>\n    </tr>\n    <tr>\n      <th>1372</th>\n      <td>(550)은평점</td>\n      <td>C Type</td>\n      <td>10278</td>\n    </tr>\n    <tr>\n      <th>1390</th>\n      <td>(601)시화점</td>\n      <td>C Type</td>\n      <td>9480</td>\n    </tr>\n    <tr>\n      <th>...</th>\n      <td>...</td>\n      <td>...</td>\n      <td>...</td>\n    </tr>\n    <tr>\n      <th>1588</th>\n      <td>(963)수색점</td>\n      <td>C Type</td>\n      <td>2155</td>\n    </tr>\n    <tr>\n      <th>706</th>\n      <td>(2674)동탄호수점</td>\n      <td>C Type</td>\n      <td>2151</td>\n    </tr>\n    <tr>\n      <th>1355</th>\n      <td>(470)성수점</td>\n      <td>S Type</td>\n      <td>2147</td>\n    </tr>\n    <tr>\n      <th>1356</th>\n      <td>(480)월배점</td>\n      <td>B Type</td>\n      <td>2140</td>\n    </tr>\n    <tr>\n      <th>801</th>\n      <td>(380)가양점</td>\n      <td>B Type</td>\n      <td>2122</td>\n    </tr>\n  </tbody>\n</table>\n<p>200 rows × 3 columns</p>\n</div>"
     },
     "metadata": {},
     "execution_count": 86
    }
   ],
   "source": [
    "# 판매량에 대한 내림차순으로 정렬\n",
    "df7 = df6.sort_values(by='판매량(int)',ascending=False).head(200)\n",
    "df7.to_csv('result_0626.csv',encoding='cp949')\n",
    "df7"
   ]
  },
  {
   "cell_type": "markdown",
   "id": "46fcd019-62f5-4214-86db-357ecefb7450",
   "metadata": {},
   "source": [
    "# python Dash / Plotly  \n",
    "\n",
    "* Python -> Wep : Django / Flask\n",
    "* react.js / flask -> Dash / plotly (데이터 시각화를 어플리케이션 하는데 특화되어 있다.)\n",
    "    - Data 시각화 App -> 간단한 형태의 데이터 시각화를 만들 수 있다. "
   ]
  },
  {
   "cell_type": "code",
   "execution_count": 87,
   "id": "9eb6d06a-3216-4d98-b66b-94ded3c1aff8",
   "metadata": {},
   "outputs": [],
   "source": [
    "import plotly.express as px"
   ]
  },
  {
   "cell_type": "code",
   "execution_count": 89,
   "id": "f799c776-29d4-409a-917b-2f4bd7f71e22",
   "metadata": {},
   "outputs": [
    {
     "output_type": "display_data",
     "data": {
      "application/vnd.plotly.v1+json": {
       "config": {
        "plotlyServerURL": "https://plot.ly"
       },
       "data": [
        {
         "alignmentgroup": "True",
         "hovertemplate": "제품군=C Type<br>점포명=%{x}<br>판매량(int)=%{y}<extra></extra>",
         "legendgroup": "C Type",
         "marker": {
          "color": "#636efa",
          "pattern": {
           "shape": ""
          }
         },
         "name": "C Type",
         "offsetgroup": "C Type",
         "orientation": "v",
         "showlegend": true,
         "textposition": "auto",
         "type": "bar",
         "x": [
          "(610)부천점",
          "(600)안양점",
          "(966)성남점",
          "(550)은평점",
          "(601)시화점",
          "(690)고잔점",
          "(962)경기광주점",
          "(490)천안점",
          "(400)상봉점",
          "(380)가양점",
          "(740)속초점",
          "(660)연수점",
          "(932)오산점",
          "(340)구로점",
          "(560)여수점",
          "(540)평택점",
          "(900)순천점",
          "(964)제천점",
          "(470)성수점",
          "(700)문현점",
          "(931)남양주점",
          "(750)사상점",
          "(952)왕십리점",
          "(840)월계점",
          "(760)울산점",
          "(1164)광주점",
          "(360)산본점",
          "(947)동탄점",
          "(181)중동점",
          "(520)수원점",
          "(951)청계천점",
          "(850)용산점",
          "(410)이천점",
          "(460)군산점",
          "(430)목포점",
          "(480)월배점",
          "(631)신월점",
          "(580)연제점",
          "(182)계양점",
          "(984)천안서북점",
          "(640)창원점",
          "(440)동인천점",
          "(680)강릉점",
          "(968)광명소하점",
          "(1156)풍산점",
          "(941)자양점",
          "(320)전주점",
          "(935)경산점",
          "(975)파주운정점",
          "(934)서귀포점",
          "(939)아산점",
          "(945)신도림점",
          "(946)여주점",
          "(590)칠성점",
          "(450)만촌점",
          "(240)제주점",
          "(920)서수원점",
          "(650)명일점",
          "(1157)김포한강점",
          "(890)통영점",
          "(933)용인점",
          "(310)청주점",
          "(151)E/T송림점",
          "(955)미아점",
          "(K42)이천점",
          "(977)대전터미널",
          "(950)하남점",
          "(949)도농점",
          "(790)광산점",
          "(959)목동점",
          "(954)안성점",
          "(720)수지점",
          "(710)금정점",
          "(155)E/T안산점",
          "(980)서산점",
          "(570)포항점",
          "(350)성서점",
          "(530)충주점",
          "(620)둔산점",
          "(820)파주점",
          "(1155)별내점",
          "(810)양산점",
          "(930)죽전점",
          "(938)검단점",
          "(981)하월곡점",
          "(420)진주점",
          "(183)평촌점",
          "(770)동해점",
          "(1160)광교점",
          "(K38)김해점",
          "(961)영등포점",
          "(1158)세종점",
          "(186)이동점",
          "(942)광명점",
          "(K29)동림동점",
          "(K35)성주점",
          "(974)가든5점",
          "(200)창동점",
          "(944)봉선점",
          "(979)마포공덕점",
          "(730)신제주점",
          "(390)해운대점",
          "(370)천호점",
          "(953)보령점",
          "(967)포천점",
          "(K31)개봉동점",
          "(2231)서창2점",
          "(860)안동점",
          "(K50)번동점",
          "(969)천안터미널",
          "(936)동백점",
          "(800)양주점",
          "(1409)E/T수원점",
          "(1162)김해터미널점",
          "(910)춘천점",
          "(983)화성봉담점",
          "(978)동구미점",
          "(1154)의정부점",
          "(175)역삼점",
          "(330)원주점",
          "(250)분당점",
          "(971)진접점",
          "(210)일산점",
          "(K39)면목동점",
          "(973)묵동점",
          "(K15)일곡동점",
          "(177)화정점",
          "(K26)당동점",
          "(L02)고양동점",
          "(2652)동탄카림점",
          "(260)남원점",
          "(940)태백점",
          "(2127)도봉점",
          "(L27)통일동산점",
          "(L12)일산2호점",
          "(1159)킨텍스점",
          "(2658)김해율하점",
          "(185)마산점",
          "(L39)본오점",
          "(1417)E/T월계점",
          "(290)김천점",
          "(830)반야월점",
          "(K87)진량점",
          "(1163)의왕점",
          "(150)E/T구성점",
          "(L44)신길점",
          "(1412)E/T스타필드하남점",
          "(K99)작전점",
          "(970)이수점",
          "(K12)중곡동점",
          "(K93)동양점",
          "(K53)월피동점",
          "(L19)광릉점",
          "(K68)용현동점",
          "(2887)신탄진점",
          "(156)E/T천안점",
          "(L15)법원점",
          "(152)E/T월평점",
          "(K70)능동점",
          "(154)E/T비산점",
          "(153)E/T서면점",
          "(2636)평내점",
          "(L18)탄현동점",
          "(300)동광주점",
          "(2638)송도호반점",
          "(L06)팜스프링점",
          "(2526)의정부민락점",
          "(K48)답십리점",
          "(633)수서점",
          "(1418)E/T스타필드부천점",
          "(1414)E/T군포점",
          "(937)익산점",
          "(963)수색점",
          "(2674)동탄호수점"
         ],
         "xaxis": "x",
         "y": [
          13397,
          11806,
          11732,
          10278,
          9480,
          9473,
          8882,
          8447,
          8410,
          8395,
          8279,
          7869,
          7842,
          7831,
          7750,
          7706,
          7652,
          7555,
          7276,
          7260,
          7218,
          7063,
          6862,
          6850,
          6781,
          6708,
          6543,
          6454,
          6433,
          6327,
          6324,
          6141,
          6138,
          6076,
          6056,
          5983,
          5949,
          5919,
          5903,
          5882,
          5813,
          5731,
          5678,
          5596,
          5477,
          5463,
          5370,
          5368,
          5315,
          5312,
          5292,
          5260,
          5237,
          5212,
          5188,
          5142,
          5090,
          5053,
          5031,
          5003,
          4963,
          4957,
          4933,
          4896,
          4800,
          4697,
          4685,
          4666,
          4653,
          4644,
          4642,
          4638,
          4618,
          4600,
          4589,
          4543,
          4539,
          4527,
          4525,
          4461,
          4438,
          4436,
          4434,
          4420,
          4420,
          4323,
          4263,
          4228,
          4215,
          4204,
          4113,
          4037,
          4035,
          4029,
          3973,
          3973,
          3933,
          3892,
          3828,
          3807,
          3801,
          3747,
          3744,
          3637,
          3529,
          3517,
          3441,
          3429,
          3272,
          3254,
          3250,
          3220,
          3188,
          3171,
          3171,
          3139,
          3128,
          3119,
          3101,
          3086,
          3043,
          3015,
          2984,
          2980,
          2916,
          2866,
          2827,
          2819,
          2813,
          2777,
          2768,
          2763,
          2754,
          2718,
          2709,
          2705,
          2681,
          2671,
          2595,
          2575,
          2550,
          2519,
          2504,
          2487,
          2486,
          2473,
          2451,
          2442,
          2431,
          2417,
          2393,
          2390,
          2389,
          2388,
          2355,
          2332,
          2328,
          2323,
          2322,
          2315,
          2302,
          2276,
          2271,
          2260,
          2249,
          2245,
          2230,
          2206,
          2206,
          2177,
          2167,
          2162,
          2155,
          2151
         ],
         "yaxis": "y"
        },
        {
         "alignmentgroup": "True",
         "hovertemplate": "제품군=B Type<br>점포명=%{x}<br>판매량(int)=%{y}<extra></extra>",
         "legendgroup": "B Type",
         "marker": {
          "color": "#EF553B",
          "pattern": {
           "shape": ""
          }
         },
         "name": "B Type",
         "offsetgroup": "B Type",
         "orientation": "v",
         "showlegend": true,
         "textposition": "auto",
         "type": "bar",
         "x": [
          "(959)목동점",
          "(150)E/T구성점",
          "(1413)E/T스타필드고양점",
          "(1412)E/T스타필드하남점",
          "(153)E/T서면점",
          "(930)죽전점",
          "(151)E/T송림점",
          "(1409)E/T수원점",
          "(610)부천점",
          "(1417)E/T월계점",
          "(1419)E/T스타필드명지점",
          "(152)E/T월평점",
          "(1418)E/T스타필드부천점",
          "(1414)E/T군포점",
          "(936)동백점",
          "(1410)E/T킨텍스점",
          "(934)서귀포점",
          "(650)명일점",
          "(979)마포공덕점",
          "(947)동탄점",
          "(974)가든5점",
          "(480)월배점",
          "(380)가양점"
         ],
         "xaxis": "x",
         "y": [
          3548,
          3267,
          3267,
          3137,
          2991,
          2904,
          2870,
          2783,
          2734,
          2716,
          2565,
          2522,
          2408,
          2338,
          2305,
          2301,
          2258,
          2239,
          2207,
          2174,
          2166,
          2140,
          2122
         ],
         "yaxis": "y"
        },
        {
         "alignmentgroup": "True",
         "hovertemplate": "제품군=S Type<br>점포명=%{x}<br>판매량(int)=%{y}<extra></extra>",
         "legendgroup": "S Type",
         "marker": {
          "color": "#00cc96",
          "pattern": {
           "shape": ""
          }
         },
         "name": "S Type",
         "offsetgroup": "S Type",
         "orientation": "v",
         "showlegend": true,
         "textposition": "auto",
         "type": "bar",
         "x": [
          "(930)죽전점",
          "(150)E/T구성점",
          "(470)성수점"
         ],
         "xaxis": "x",
         "y": [
          2686,
          2174,
          2147
         ],
         "yaxis": "y"
        }
       ],
       "layout": {
        "barmode": "relative",
        "legend": {
         "title": {
          "text": "제품군"
         },
         "tracegroupgap": 0
        },
        "margin": {
         "t": 60
        },
        "template": {
         "data": {
          "bar": [
           {
            "error_x": {
             "color": "#2a3f5f"
            },
            "error_y": {
             "color": "#2a3f5f"
            },
            "marker": {
             "line": {
              "color": "#E5ECF6",
              "width": 0.5
             },
             "pattern": {
              "fillmode": "overlay",
              "size": 10,
              "solidity": 0.2
             }
            },
            "type": "bar"
           }
          ],
          "barpolar": [
           {
            "marker": {
             "line": {
              "color": "#E5ECF6",
              "width": 0.5
             },
             "pattern": {
              "fillmode": "overlay",
              "size": 10,
              "solidity": 0.2
             }
            },
            "type": "barpolar"
           }
          ],
          "carpet": [
           {
            "aaxis": {
             "endlinecolor": "#2a3f5f",
             "gridcolor": "white",
             "linecolor": "white",
             "minorgridcolor": "white",
             "startlinecolor": "#2a3f5f"
            },
            "baxis": {
             "endlinecolor": "#2a3f5f",
             "gridcolor": "white",
             "linecolor": "white",
             "minorgridcolor": "white",
             "startlinecolor": "#2a3f5f"
            },
            "type": "carpet"
           }
          ],
          "choropleth": [
           {
            "colorbar": {
             "outlinewidth": 0,
             "ticks": ""
            },
            "type": "choropleth"
           }
          ],
          "contour": [
           {
            "colorbar": {
             "outlinewidth": 0,
             "ticks": ""
            },
            "colorscale": [
             [
              0,
              "#0d0887"
             ],
             [
              0.1111111111111111,
              "#46039f"
             ],
             [
              0.2222222222222222,
              "#7201a8"
             ],
             [
              0.3333333333333333,
              "#9c179e"
             ],
             [
              0.4444444444444444,
              "#bd3786"
             ],
             [
              0.5555555555555556,
              "#d8576b"
             ],
             [
              0.6666666666666666,
              "#ed7953"
             ],
             [
              0.7777777777777778,
              "#fb9f3a"
             ],
             [
              0.8888888888888888,
              "#fdca26"
             ],
             [
              1,
              "#f0f921"
             ]
            ],
            "type": "contour"
           }
          ],
          "contourcarpet": [
           {
            "colorbar": {
             "outlinewidth": 0,
             "ticks": ""
            },
            "type": "contourcarpet"
           }
          ],
          "heatmap": [
           {
            "colorbar": {
             "outlinewidth": 0,
             "ticks": ""
            },
            "colorscale": [
             [
              0,
              "#0d0887"
             ],
             [
              0.1111111111111111,
              "#46039f"
             ],
             [
              0.2222222222222222,
              "#7201a8"
             ],
             [
              0.3333333333333333,
              "#9c179e"
             ],
             [
              0.4444444444444444,
              "#bd3786"
             ],
             [
              0.5555555555555556,
              "#d8576b"
             ],
             [
              0.6666666666666666,
              "#ed7953"
             ],
             [
              0.7777777777777778,
              "#fb9f3a"
             ],
             [
              0.8888888888888888,
              "#fdca26"
             ],
             [
              1,
              "#f0f921"
             ]
            ],
            "type": "heatmap"
           }
          ],
          "heatmapgl": [
           {
            "colorbar": {
             "outlinewidth": 0,
             "ticks": ""
            },
            "colorscale": [
             [
              0,
              "#0d0887"
             ],
             [
              0.1111111111111111,
              "#46039f"
             ],
             [
              0.2222222222222222,
              "#7201a8"
             ],
             [
              0.3333333333333333,
              "#9c179e"
             ],
             [
              0.4444444444444444,
              "#bd3786"
             ],
             [
              0.5555555555555556,
              "#d8576b"
             ],
             [
              0.6666666666666666,
              "#ed7953"
             ],
             [
              0.7777777777777778,
              "#fb9f3a"
             ],
             [
              0.8888888888888888,
              "#fdca26"
             ],
             [
              1,
              "#f0f921"
             ]
            ],
            "type": "heatmapgl"
           }
          ],
          "histogram": [
           {
            "marker": {
             "pattern": {
              "fillmode": "overlay",
              "size": 10,
              "solidity": 0.2
             }
            },
            "type": "histogram"
           }
          ],
          "histogram2d": [
           {
            "colorbar": {
             "outlinewidth": 0,
             "ticks": ""
            },
            "colorscale": [
             [
              0,
              "#0d0887"
             ],
             [
              0.1111111111111111,
              "#46039f"
             ],
             [
              0.2222222222222222,
              "#7201a8"
             ],
             [
              0.3333333333333333,
              "#9c179e"
             ],
             [
              0.4444444444444444,
              "#bd3786"
             ],
             [
              0.5555555555555556,
              "#d8576b"
             ],
             [
              0.6666666666666666,
              "#ed7953"
             ],
             [
              0.7777777777777778,
              "#fb9f3a"
             ],
             [
              0.8888888888888888,
              "#fdca26"
             ],
             [
              1,
              "#f0f921"
             ]
            ],
            "type": "histogram2d"
           }
          ],
          "histogram2dcontour": [
           {
            "colorbar": {
             "outlinewidth": 0,
             "ticks": ""
            },
            "colorscale": [
             [
              0,
              "#0d0887"
             ],
             [
              0.1111111111111111,
              "#46039f"
             ],
             [
              0.2222222222222222,
              "#7201a8"
             ],
             [
              0.3333333333333333,
              "#9c179e"
             ],
             [
              0.4444444444444444,
              "#bd3786"
             ],
             [
              0.5555555555555556,
              "#d8576b"
             ],
             [
              0.6666666666666666,
              "#ed7953"
             ],
             [
              0.7777777777777778,
              "#fb9f3a"
             ],
             [
              0.8888888888888888,
              "#fdca26"
             ],
             [
              1,
              "#f0f921"
             ]
            ],
            "type": "histogram2dcontour"
           }
          ],
          "mesh3d": [
           {
            "colorbar": {
             "outlinewidth": 0,
             "ticks": ""
            },
            "type": "mesh3d"
           }
          ],
          "parcoords": [
           {
            "line": {
             "colorbar": {
              "outlinewidth": 0,
              "ticks": ""
             }
            },
            "type": "parcoords"
           }
          ],
          "pie": [
           {
            "automargin": true,
            "type": "pie"
           }
          ],
          "scatter": [
           {
            "marker": {
             "colorbar": {
              "outlinewidth": 0,
              "ticks": ""
             }
            },
            "type": "scatter"
           }
          ],
          "scatter3d": [
           {
            "line": {
             "colorbar": {
              "outlinewidth": 0,
              "ticks": ""
             }
            },
            "marker": {
             "colorbar": {
              "outlinewidth": 0,
              "ticks": ""
             }
            },
            "type": "scatter3d"
           }
          ],
          "scattercarpet": [
           {
            "marker": {
             "colorbar": {
              "outlinewidth": 0,
              "ticks": ""
             }
            },
            "type": "scattercarpet"
           }
          ],
          "scattergeo": [
           {
            "marker": {
             "colorbar": {
              "outlinewidth": 0,
              "ticks": ""
             }
            },
            "type": "scattergeo"
           }
          ],
          "scattergl": [
           {
            "marker": {
             "colorbar": {
              "outlinewidth": 0,
              "ticks": ""
             }
            },
            "type": "scattergl"
           }
          ],
          "scattermapbox": [
           {
            "marker": {
             "colorbar": {
              "outlinewidth": 0,
              "ticks": ""
             }
            },
            "type": "scattermapbox"
           }
          ],
          "scatterpolar": [
           {
            "marker": {
             "colorbar": {
              "outlinewidth": 0,
              "ticks": ""
             }
            },
            "type": "scatterpolar"
           }
          ],
          "scatterpolargl": [
           {
            "marker": {
             "colorbar": {
              "outlinewidth": 0,
              "ticks": ""
             }
            },
            "type": "scatterpolargl"
           }
          ],
          "scatterternary": [
           {
            "marker": {
             "colorbar": {
              "outlinewidth": 0,
              "ticks": ""
             }
            },
            "type": "scatterternary"
           }
          ],
          "surface": [
           {
            "colorbar": {
             "outlinewidth": 0,
             "ticks": ""
            },
            "colorscale": [
             [
              0,
              "#0d0887"
             ],
             [
              0.1111111111111111,
              "#46039f"
             ],
             [
              0.2222222222222222,
              "#7201a8"
             ],
             [
              0.3333333333333333,
              "#9c179e"
             ],
             [
              0.4444444444444444,
              "#bd3786"
             ],
             [
              0.5555555555555556,
              "#d8576b"
             ],
             [
              0.6666666666666666,
              "#ed7953"
             ],
             [
              0.7777777777777778,
              "#fb9f3a"
             ],
             [
              0.8888888888888888,
              "#fdca26"
             ],
             [
              1,
              "#f0f921"
             ]
            ],
            "type": "surface"
           }
          ],
          "table": [
           {
            "cells": {
             "fill": {
              "color": "#EBF0F8"
             },
             "line": {
              "color": "white"
             }
            },
            "header": {
             "fill": {
              "color": "#C8D4E3"
             },
             "line": {
              "color": "white"
             }
            },
            "type": "table"
           }
          ]
         },
         "layout": {
          "annotationdefaults": {
           "arrowcolor": "#2a3f5f",
           "arrowhead": 0,
           "arrowwidth": 1
          },
          "autotypenumbers": "strict",
          "coloraxis": {
           "colorbar": {
            "outlinewidth": 0,
            "ticks": ""
           }
          },
          "colorscale": {
           "diverging": [
            [
             0,
             "#8e0152"
            ],
            [
             0.1,
             "#c51b7d"
            ],
            [
             0.2,
             "#de77ae"
            ],
            [
             0.3,
             "#f1b6da"
            ],
            [
             0.4,
             "#fde0ef"
            ],
            [
             0.5,
             "#f7f7f7"
            ],
            [
             0.6,
             "#e6f5d0"
            ],
            [
             0.7,
             "#b8e186"
            ],
            [
             0.8,
             "#7fbc41"
            ],
            [
             0.9,
             "#4d9221"
            ],
            [
             1,
             "#276419"
            ]
           ],
           "sequential": [
            [
             0,
             "#0d0887"
            ],
            [
             0.1111111111111111,
             "#46039f"
            ],
            [
             0.2222222222222222,
             "#7201a8"
            ],
            [
             0.3333333333333333,
             "#9c179e"
            ],
            [
             0.4444444444444444,
             "#bd3786"
            ],
            [
             0.5555555555555556,
             "#d8576b"
            ],
            [
             0.6666666666666666,
             "#ed7953"
            ],
            [
             0.7777777777777778,
             "#fb9f3a"
            ],
            [
             0.8888888888888888,
             "#fdca26"
            ],
            [
             1,
             "#f0f921"
            ]
           ],
           "sequentialminus": [
            [
             0,
             "#0d0887"
            ],
            [
             0.1111111111111111,
             "#46039f"
            ],
            [
             0.2222222222222222,
             "#7201a8"
            ],
            [
             0.3333333333333333,
             "#9c179e"
            ],
            [
             0.4444444444444444,
             "#bd3786"
            ],
            [
             0.5555555555555556,
             "#d8576b"
            ],
            [
             0.6666666666666666,
             "#ed7953"
            ],
            [
             0.7777777777777778,
             "#fb9f3a"
            ],
            [
             0.8888888888888888,
             "#fdca26"
            ],
            [
             1,
             "#f0f921"
            ]
           ]
          },
          "colorway": [
           "#636efa",
           "#EF553B",
           "#00cc96",
           "#ab63fa",
           "#FFA15A",
           "#19d3f3",
           "#FF6692",
           "#B6E880",
           "#FF97FF",
           "#FECB52"
          ],
          "font": {
           "color": "#2a3f5f"
          },
          "geo": {
           "bgcolor": "white",
           "lakecolor": "white",
           "landcolor": "#E5ECF6",
           "showlakes": true,
           "showland": true,
           "subunitcolor": "white"
          },
          "hoverlabel": {
           "align": "left"
          },
          "hovermode": "closest",
          "mapbox": {
           "style": "light"
          },
          "paper_bgcolor": "white",
          "plot_bgcolor": "#E5ECF6",
          "polar": {
           "angularaxis": {
            "gridcolor": "white",
            "linecolor": "white",
            "ticks": ""
           },
           "bgcolor": "#E5ECF6",
           "radialaxis": {
            "gridcolor": "white",
            "linecolor": "white",
            "ticks": ""
           }
          },
          "scene": {
           "xaxis": {
            "backgroundcolor": "#E5ECF6",
            "gridcolor": "white",
            "gridwidth": 2,
            "linecolor": "white",
            "showbackground": true,
            "ticks": "",
            "zerolinecolor": "white"
           },
           "yaxis": {
            "backgroundcolor": "#E5ECF6",
            "gridcolor": "white",
            "gridwidth": 2,
            "linecolor": "white",
            "showbackground": true,
            "ticks": "",
            "zerolinecolor": "white"
           },
           "zaxis": {
            "backgroundcolor": "#E5ECF6",
            "gridcolor": "white",
            "gridwidth": 2,
            "linecolor": "white",
            "showbackground": true,
            "ticks": "",
            "zerolinecolor": "white"
           }
          },
          "shapedefaults": {
           "line": {
            "color": "#2a3f5f"
           }
          },
          "ternary": {
           "aaxis": {
            "gridcolor": "white",
            "linecolor": "white",
            "ticks": ""
           },
           "baxis": {
            "gridcolor": "white",
            "linecolor": "white",
            "ticks": ""
           },
           "bgcolor": "#E5ECF6",
           "caxis": {
            "gridcolor": "white",
            "linecolor": "white",
            "ticks": ""
           }
          },
          "title": {
           "x": 0.05
          },
          "xaxis": {
           "automargin": true,
           "gridcolor": "white",
           "linecolor": "white",
           "ticks": "",
           "title": {
            "standoff": 15
           },
           "zerolinecolor": "white",
           "zerolinewidth": 2
          },
          "yaxis": {
           "automargin": true,
           "gridcolor": "white",
           "linecolor": "white",
           "ticks": "",
           "title": {
            "standoff": 15
           },
           "zerolinecolor": "white",
           "zerolinewidth": 2
          }
         }
        },
        "xaxis": {
         "anchor": "y",
         "domain": [
          0,
          1
         ],
         "title": {
          "text": "점포명"
         }
        },
        "yaxis": {
         "anchor": "x",
         "domain": [
          0,
          1
         ],
         "title": {
          "text": "판매량(int)"
         }
        }
       }
      }
     },
     "metadata": {}
    }
   ],
   "source": [
    "fig = px.bar(df7, x='점포명', y='판매량(int)',color='제품군')\n",
    "fig.show()"
   ]
  },
  {
   "cell_type": "code",
   "execution_count": null,
   "id": "82f3a66a-169a-4df9-bfe8-bda4330354f6",
   "metadata": {},
   "outputs": [],
   "source": []
  }
 ],
 "metadata": {
  "kernelspec": {
   "name": "multi",
   "display_name": "Python 3.7.6 64-bit ('multi': conda)"
  },
  "language_info": {
   "codemirror_mode": {
    "name": "ipython",
    "version": 3
   },
   "file_extension": ".py",
   "mimetype": "text/x-python",
   "name": "python",
   "nbconvert_exporter": "python",
   "pygments_lexer": "ipython3",
   "version": "3.7.6"
  }
 },
 "nbformat": 4,
 "nbformat_minor": 5
}