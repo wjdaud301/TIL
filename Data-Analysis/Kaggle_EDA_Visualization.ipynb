{
 "cells": [
  {
   "cell_type": "markdown",
   "id": "a8855f96-238e-47e3-bc23-8ae2f491c381",
   "metadata": {},
   "source": [
    "## Import required modules"
   ]
  },
  {
   "cell_type": "code",
   "execution_count": 5,
   "id": "ba8c46cb-c548-4741-af3d-c3a40f70ba0b",
   "metadata": {},
   "outputs": [],
   "source": [
    "import numpy as np\n",
    "import pandas as pd\n",
    "import matplotlib.pyplot as plt\n",
    "import seaborn as sns\n",
    "\n",
    "# 객체를 생성할 때 sparse 옵션을 이용해서 희소행렬로 리턴할지 밀집행렬로 리턴할지 설정\n",
    "from sklearn.feature_extraction.text import CountVectorizer\n",
    "from textblob import TextBlob\n",
    "\n",
    "import warnings\n",
    "warnings.filterwarnings('ignore')"
   ]
  },
  {
   "cell_type": "code",
   "execution_count": 11,
   "id": "ce995a04-c76b-42ed-8f05-ad9b58d927b0",
   "metadata": {},
   "outputs": [
    {
     "data": {
      "text/plain": [
       "'C:\\\\Users\\\\의원1\\\\git'"
      ]
     },
     "execution_count": 11,
     "metadata": {},
     "output_type": "execute_result"
    }
   ],
   "source": [
    "%pwd"
   ]
  },
  {
   "cell_type": "code",
   "execution_count": 14,
   "id": "b2d04a7e-8f03-4812-bcd2-3ccb2f771a9c",
   "metadata": {},
   "outputs": [
    {
     "data": {
      "text/html": [
       "<div>\n",
       "<style scoped>\n",
       "    .dataframe tbody tr th:only-of-type {\n",
       "        vertical-align: middle;\n",
       "    }\n",
       "\n",
       "    .dataframe tbody tr th {\n",
       "        vertical-align: top;\n",
       "    }\n",
       "\n",
       "    .dataframe thead th {\n",
       "        text-align: right;\n",
       "    }\n",
       "</style>\n",
       "<table border=\"1\" class=\"dataframe\">\n",
       "  <thead>\n",
       "    <tr style=\"text-align: right;\">\n",
       "      <th></th>\n",
       "      <th>Unnamed: 0</th>\n",
       "      <th>Clothing ID</th>\n",
       "      <th>Age</th>\n",
       "      <th>Title</th>\n",
       "      <th>Review Text</th>\n",
       "      <th>Rating</th>\n",
       "      <th>Recommended IND</th>\n",
       "      <th>Positive Feedback Count</th>\n",
       "      <th>Division Name</th>\n",
       "      <th>Department Name</th>\n",
       "      <th>Class Name</th>\n",
       "    </tr>\n",
       "  </thead>\n",
       "  <tbody>\n",
       "    <tr>\n",
       "      <th>0</th>\n",
       "      <td>0</td>\n",
       "      <td>767</td>\n",
       "      <td>33</td>\n",
       "      <td>NaN</td>\n",
       "      <td>Absolutely wonderful - silky and sexy and comf...</td>\n",
       "      <td>4</td>\n",
       "      <td>1</td>\n",
       "      <td>0</td>\n",
       "      <td>Initmates</td>\n",
       "      <td>Intimate</td>\n",
       "      <td>Intimates</td>\n",
       "    </tr>\n",
       "    <tr>\n",
       "      <th>1</th>\n",
       "      <td>1</td>\n",
       "      <td>1080</td>\n",
       "      <td>34</td>\n",
       "      <td>NaN</td>\n",
       "      <td>Love this dress!  it's sooo pretty.  i happene...</td>\n",
       "      <td>5</td>\n",
       "      <td>1</td>\n",
       "      <td>4</td>\n",
       "      <td>General</td>\n",
       "      <td>Dresses</td>\n",
       "      <td>Dresses</td>\n",
       "    </tr>\n",
       "    <tr>\n",
       "      <th>2</th>\n",
       "      <td>2</td>\n",
       "      <td>1077</td>\n",
       "      <td>60</td>\n",
       "      <td>Some major design flaws</td>\n",
       "      <td>I had such high hopes for this dress and reall...</td>\n",
       "      <td>3</td>\n",
       "      <td>0</td>\n",
       "      <td>0</td>\n",
       "      <td>General</td>\n",
       "      <td>Dresses</td>\n",
       "      <td>Dresses</td>\n",
       "    </tr>\n",
       "    <tr>\n",
       "      <th>3</th>\n",
       "      <td>3</td>\n",
       "      <td>1049</td>\n",
       "      <td>50</td>\n",
       "      <td>My favorite buy!</td>\n",
       "      <td>I love, love, love this jumpsuit. it's fun, fl...</td>\n",
       "      <td>5</td>\n",
       "      <td>1</td>\n",
       "      <td>0</td>\n",
       "      <td>General Petite</td>\n",
       "      <td>Bottoms</td>\n",
       "      <td>Pants</td>\n",
       "    </tr>\n",
       "    <tr>\n",
       "      <th>4</th>\n",
       "      <td>4</td>\n",
       "      <td>847</td>\n",
       "      <td>47</td>\n",
       "      <td>Flattering shirt</td>\n",
       "      <td>This shirt is very flattering to all due to th...</td>\n",
       "      <td>5</td>\n",
       "      <td>1</td>\n",
       "      <td>6</td>\n",
       "      <td>General</td>\n",
       "      <td>Tops</td>\n",
       "      <td>Blouses</td>\n",
       "    </tr>\n",
       "  </tbody>\n",
       "</table>\n",
       "</div>"
      ],
      "text/plain": [
       "   Unnamed: 0  Clothing ID  Age                    Title  \\\n",
       "0           0          767   33                      NaN   \n",
       "1           1         1080   34                      NaN   \n",
       "2           2         1077   60  Some major design flaws   \n",
       "3           3         1049   50         My favorite buy!   \n",
       "4           4          847   47         Flattering shirt   \n",
       "\n",
       "                                         Review Text  Rating  Recommended IND  \\\n",
       "0  Absolutely wonderful - silky and sexy and comf...       4                1   \n",
       "1  Love this dress!  it's sooo pretty.  i happene...       5                1   \n",
       "2  I had such high hopes for this dress and reall...       3                0   \n",
       "3  I love, love, love this jumpsuit. it's fun, fl...       5                1   \n",
       "4  This shirt is very flattering to all due to th...       5                1   \n",
       "\n",
       "   Positive Feedback Count   Division Name Department Name Class Name  \n",
       "0                        0       Initmates        Intimate  Intimates  \n",
       "1                        4         General         Dresses    Dresses  \n",
       "2                        0         General         Dresses    Dresses  \n",
       "3                        0  General Petite         Bottoms      Pants  \n",
       "4                        6         General            Tops    Blouses  "
      ]
     },
     "execution_count": 14,
     "metadata": {},
     "output_type": "execute_result"
    }
   ],
   "source": [
    "df = pd.read_csv(\"./mysql/Womens Clothing E-Commerce Reviews.csv\")\n",
    "df.head()"
   ]
  },
  {
   "cell_type": "markdown",
   "id": "0d1cd1b7-ad18-49ec-b0c8-bee536ef485e",
   "metadata": {},
   "source": [
    "## Null values와 불필요한 columns 제거 (결측값 제거)"
   ]
  },
  {
   "cell_type": "code",
   "execution_count": 16,
   "id": "263ce983-21a3-4bcd-ac00-3e9013f322d7",
   "metadata": {},
   "outputs": [
    {
     "data": {
      "text/plain": [
       "Unnamed: 0                    0\n",
       "Clothing ID                   0\n",
       "Age                           0\n",
       "Title                      3810\n",
       "Review Text                 845\n",
       "Rating                        0\n",
       "Recommended IND               0\n",
       "Positive Feedback Count       0\n",
       "Division Name                14\n",
       "Department Name              14\n",
       "Class Name                   14\n",
       "dtype: int64"
      ]
     },
     "execution_count": 16,
     "metadata": {},
     "output_type": "execute_result"
    }
   ],
   "source": [
    "df.isnull().sum()"
   ]
  },
  {
   "cell_type": "code",
   "execution_count": 19,
   "id": "2c955d28-b87a-47ae-8628-c7ce62ffab10",
   "metadata": {},
   "outputs": [
    {
     "data": {
      "text/plain": [
       "Clothing ID                0\n",
       "Age                        0\n",
       "Review Text                0\n",
       "Rating                     0\n",
       "Recommended IND            0\n",
       "Positive Feedback Count    0\n",
       "Division Name              0\n",
       "Department Name            0\n",
       "Class Name                 0\n",
       "dtype: int64"
      ]
     },
     "execution_count": 19,
     "metadata": {},
     "output_type": "execute_result"
    }
   ],
   "source": [
    "# DataFrame에서 두 개의 column을 제거 (axis = 1, inplace = True / 열에 대해 적용하여 저장)\n",
    "df.drop(['Unnamed: 0','Title'], axis=1, inplace=True)\n",
    "\n",
    "# NaN 인 값을 소유한 row를 제외하며 axis=1 옵션을 추가하면 열을 삭제 \n",
    "df.dropna(inplace = True)\n",
    "\n",
    "# 결측값 제거 완료\n",
    "df.isnull().sum()"
   ]
  },
  {
   "cell_type": "code",
   "execution_count": 30,
   "id": "cd848e94-df42-4988-bf36-832307f06e25",
   "metadata": {},
   "outputs": [
    {
     "data": {
      "text/plain": [
       "0        Absolutely wonderful - silky and sexy and comf...\n",
       "1        Love this dress!  it's sooo pretty.  i happene...\n",
       "2        I had such high hopes for this dress and reall...\n",
       "3        I love, love, love this jumpsuit. it's fun, fl...\n",
       "4        This shirt is very flattering to all due to th...\n",
       "                               ...                        \n",
       "23481    I was very happy to snag this dress at such a ...\n",
       "23482    It reminds me of maternity clothes. soft, stre...\n",
       "23483    This fit well, but the top was very see throug...\n",
       "23484    I bought this dress for a wedding i have this ...\n",
       "23485    This dress in a lovely platinum is feminine an...\n",
       "Name: Review Text, Length: 22628, dtype: object"
      ]
     },
     "execution_count": 30,
     "metadata": {},
     "output_type": "execute_result"
    }
   ],
   "source": [
    "df['Review Text']"
   ]
  },
  {
   "cell_type": "markdown",
   "id": "0a1691ba-4fa4-40c2-b38c-3b1d9b5e84c2",
   "metadata": {},
   "source": [
    "## Data 전처리"
   ]
  },
  {
   "cell_type": "code",
   "execution_count": 29,
   "id": "ac1f1fa1-7ec6-4f62-87a5-83ae3e7472ce",
   "metadata": {},
   "outputs": [],
   "source": [
    "# 자바스크립트 정규표현식 이용한 replace html(<,>,\", ' ,\\n) 특수문자제거\n",
    "def preprocess(ReviewText):\n",
    "    ReviewText = ReviewText.str.replace(\"(<br/>)\",\"\")\n",
    "    ReviewText = ReviewText.str.replace('(<a).*(>).*(</a>)','')\n",
    "    ReviewText = ReviewText.str.replace('(&amp)','')\n",
    "    ReviewText = ReviewText.str.replace('(&gt)','')\n",
    "    ReviewText = ReviewText.str.replace('(&lt)','')\n",
    "    ReviewText = ReviewText.str.replace('(\\xa0)',' ')\n",
    "    return ReviewText\n",
    "\n",
    "df['Review Text'] = preprocess(df['Review Text'])"
   ]
  },
  {
   "cell_type": "code",
   "execution_count": 34,
   "id": "7e28bbea-3c55-48af-bba3-4e430616f4c7",
   "metadata": {},
   "outputs": [],
   "source": [
    "# TextBlob의 출력 : 극성 과 주관적\n",
    "# Vader Sentiment 출력 : 네거티브 ( neg ), 중립 ( neu ), 포지티브 ( pos ) 및 복합\n",
    "df['Polarity'] = df['Review Text'].apply(lambda x : TextBlob(x).sentiment.polarity)\n",
    "df['word_count'] = df['Review Text'].apply(lambda x : len(str(x).split()))\n",
    "df['review_len'] = df['Review Text'].apply(lambda x : len(str(x)))"
   ]
  },
  {
   "cell_type": "code",
   "execution_count": 35,
   "id": "2a4d7112-a451-486b-a015-178ea9fd8c5c",
   "metadata": {},
   "outputs": [
    {
     "data": {
      "text/html": [
       "<div>\n",
       "<style scoped>\n",
       "    .dataframe tbody tr th:only-of-type {\n",
       "        vertical-align: middle;\n",
       "    }\n",
       "\n",
       "    .dataframe tbody tr th {\n",
       "        vertical-align: top;\n",
       "    }\n",
       "\n",
       "    .dataframe thead th {\n",
       "        text-align: right;\n",
       "    }\n",
       "</style>\n",
       "<table border=\"1\" class=\"dataframe\">\n",
       "  <thead>\n",
       "    <tr style=\"text-align: right;\">\n",
       "      <th></th>\n",
       "      <th>Clothing ID</th>\n",
       "      <th>Age</th>\n",
       "      <th>Review Text</th>\n",
       "      <th>Rating</th>\n",
       "      <th>Recommended IND</th>\n",
       "      <th>Positive Feedback Count</th>\n",
       "      <th>Division Name</th>\n",
       "      <th>Department Name</th>\n",
       "      <th>Class Name</th>\n",
       "      <th>Polarity</th>\n",
       "      <th>word_count</th>\n",
       "      <th>review_len</th>\n",
       "    </tr>\n",
       "  </thead>\n",
       "  <tbody>\n",
       "    <tr>\n",
       "      <th>0</th>\n",
       "      <td>767</td>\n",
       "      <td>33</td>\n",
       "      <td>Absolutely wonderful - silky and sexy and comf...</td>\n",
       "      <td>4</td>\n",
       "      <td>1</td>\n",
       "      <td>0</td>\n",
       "      <td>Initmates</td>\n",
       "      <td>Intimate</td>\n",
       "      <td>Intimates</td>\n",
       "      <td>0.633333</td>\n",
       "      <td>8</td>\n",
       "      <td>53</td>\n",
       "    </tr>\n",
       "    <tr>\n",
       "      <th>1</th>\n",
       "      <td>1080</td>\n",
       "      <td>34</td>\n",
       "      <td>Love this dress!  it's sooo pretty.  i happene...</td>\n",
       "      <td>5</td>\n",
       "      <td>1</td>\n",
       "      <td>4</td>\n",
       "      <td>General</td>\n",
       "      <td>Dresses</td>\n",
       "      <td>Dresses</td>\n",
       "      <td>0.339583</td>\n",
       "      <td>62</td>\n",
       "      <td>303</td>\n",
       "    </tr>\n",
       "    <tr>\n",
       "      <th>2</th>\n",
       "      <td>1077</td>\n",
       "      <td>60</td>\n",
       "      <td>I had such high hopes for this dress and reall...</td>\n",
       "      <td>3</td>\n",
       "      <td>0</td>\n",
       "      <td>0</td>\n",
       "      <td>General</td>\n",
       "      <td>Dresses</td>\n",
       "      <td>Dresses</td>\n",
       "      <td>0.073675</td>\n",
       "      <td>98</td>\n",
       "      <td>500</td>\n",
       "    </tr>\n",
       "    <tr>\n",
       "      <th>3</th>\n",
       "      <td>1049</td>\n",
       "      <td>50</td>\n",
       "      <td>I love, love, love this jumpsuit. it's fun, fl...</td>\n",
       "      <td>5</td>\n",
       "      <td>1</td>\n",
       "      <td>0</td>\n",
       "      <td>General Petite</td>\n",
       "      <td>Bottoms</td>\n",
       "      <td>Pants</td>\n",
       "      <td>0.550000</td>\n",
       "      <td>22</td>\n",
       "      <td>124</td>\n",
       "    </tr>\n",
       "    <tr>\n",
       "      <th>4</th>\n",
       "      <td>847</td>\n",
       "      <td>47</td>\n",
       "      <td>This shirt is very flattering to all due to th...</td>\n",
       "      <td>5</td>\n",
       "      <td>1</td>\n",
       "      <td>6</td>\n",
       "      <td>General</td>\n",
       "      <td>Tops</td>\n",
       "      <td>Blouses</td>\n",
       "      <td>0.512891</td>\n",
       "      <td>36</td>\n",
       "      <td>192</td>\n",
       "    </tr>\n",
       "  </tbody>\n",
       "</table>\n",
       "</div>"
      ],
      "text/plain": [
       "   Clothing ID  Age                                        Review Text  \\\n",
       "0          767   33  Absolutely wonderful - silky and sexy and comf...   \n",
       "1         1080   34  Love this dress!  it's sooo pretty.  i happene...   \n",
       "2         1077   60  I had such high hopes for this dress and reall...   \n",
       "3         1049   50  I love, love, love this jumpsuit. it's fun, fl...   \n",
       "4          847   47  This shirt is very flattering to all due to th...   \n",
       "\n",
       "   Rating  Recommended IND  Positive Feedback Count   Division Name  \\\n",
       "0       4                1                        0       Initmates   \n",
       "1       5                1                        4         General   \n",
       "2       3                0                        0         General   \n",
       "3       5                1                        0  General Petite   \n",
       "4       5                1                        6         General   \n",
       "\n",
       "  Department Name Class Name  Polarity  word_count  review_len  \n",
       "0        Intimate  Intimates  0.633333           8          53  \n",
       "1         Dresses    Dresses  0.339583          62         303  \n",
       "2         Dresses    Dresses  0.073675          98         500  \n",
       "3         Bottoms      Pants  0.550000          22         124  \n",
       "4            Tops    Blouses  0.512891          36         192  "
      ]
     },
     "execution_count": 35,
     "metadata": {},
     "output_type": "execute_result"
    }
   ],
   "source": [
    "df.head()"
   ]
  },
  {
   "cell_type": "markdown",
   "id": "d72da2c6-2d52-4001-8eac-d78585e1cd3d",
   "metadata": {},
   "source": [
    "##  Most Postive, Neutral and Negative 극성 리뷰를 체크한다\n",
    "\n",
    "#### Polarity == 1"
   ]
  },
  {
   "cell_type": "code",
   "execution_count": 51,
   "id": "69ee4bf3-01e8-47ef-a399-7a52586ebdb4",
   "metadata": {},
   "outputs": [
    {
     "name": "stdout",
     "output_type": "stream",
     "text": [
      "My daughter had one and wore it with everything.i ended up getting one myself.it is a perfect weight.\n",
      "Fits perfect.\n",
      "Dress is awesome and makes you look skinnier.\n",
      "This is a perfect jacket over any shirt, tee, or dress. jacket is well made and goes with anything!\n",
      "Great purchase! i bought the coat to wear to work.\n"
     ]
    }
   ],
   "source": [
    "cl = df.loc[df.Polarity == 1, ['Review Text']].sample(5).values\n",
    "\n",
    "for c in cl:\n",
    "    print(c[0])"
   ]
  },
  {
   "cell_type": "markdown",
   "id": "faeb1d92-0db4-4e8d-8bb8-7db26dbf4291",
   "metadata": {},
   "source": [
    "#### Polarity == 0"
   ]
  },
  {
   "cell_type": "code",
   "execution_count": 52,
   "id": "f65d6e59-46ca-4dba-a002-bc0694055394",
   "metadata": {},
   "outputs": [
    {
     "name": "stdout",
     "output_type": "stream",
     "text": [
      "I tried on xs petites as someone had returned it . i didn't find that it ran small, it was ok on me. i am not sure if the regular size would work but i didn't end up purchasing this today as the color was jsut so-so on my skin tone.\n",
      "\n",
      "likes: contrast and detail in ruffle, romantic\n",
      "\n",
      "dislikes: the tag pulled on the fabric a bit and you could tell, so the fabric seemed fragile.\n",
      "I am a true size small and i ordered this dress and it was way big. it's meant to be a relaxed fit, but it sagged under the arm-holes because the bust was way too big. some folks are saying it ran small and they are essentially the same measurements as me, so it makes me think there is possibly some variation in each size. i got on here to reorder in a smaller size, but now am not sure what to do as i need a dress with in the next three days!\n",
      "These jeans are my favorite skinny jeans. they are expensive but so worth it. i had nordstrom reinforce holes with patches so they still look distressed but won't rip further. i wear these at least once a week.\n",
      "Bought this dress to wear for my engagement brunch! it does run big, but it's a laid back dress to wear?i never had to adjust the dress of myself while wearing it.\n",
      "I feel like an indian goddess in this dress! lots of swing to it!\n"
     ]
    }
   ],
   "source": [
    "cl = df.loc[df.Polarity == 0, ['Review Text']].sample(5).values\n",
    "\n",
    "for c in cl:\n",
    "    print(c[0])"
   ]
  },
  {
   "cell_type": "markdown",
   "id": "9b6211f1-3763-408d-a6f9-ab6d09a41948",
   "metadata": {},
   "source": [
    "#### Polarity <= -0.7"
   ]
  },
  {
   "cell_type": "code",
   "execution_count": 55,
   "id": "f9a7939b-e179-41fe-a766-b3102f5b04df",
   "metadata": {},
   "outputs": [
    {
     "name": "stdout",
     "output_type": "stream",
     "text": [
      "Cut out design, no seems or hems.\n",
      " very disappointed in retailer\n",
      "The button fell off when i took it out of the bag, and i noticed that all of the thread had unraveled. will be returning :-(\n",
      "Received this product with a gaping hole in it. very disappointed in the quality and the quality control at the warehouse\n",
      "Awful color, horribly wrinkled and just a mess...so disappointed\n",
      "What a disappointment and for the price, it's outrageous!\n"
     ]
    }
   ],
   "source": [
    "cl = df.loc[df.Polarity <= -0.7, ['Review Text']].sample(5).values\n",
    "\n",
    "for c in cl:\n",
    "    print(c[0])"
   ]
  },
  {
   "cell_type": "markdown",
   "id": "04059568-8cd1-4fcb-8894-67149100a958",
   "metadata": {},
   "source": [
    "## Distribution of review sentiment polarity score"
   ]
  },
  {
   "cell_type": "code",
   "execution_count": 60,
   "id": "da0e7439-657e-4aca-997b-d2be1d59cd45",
   "metadata": {},
   "outputs": [
    {
     "data": {
      "image/png": "[encoded data removed]",
      "text/plain": [
       "<Figure size 432x288 with 1 Axes>"
      ]
     },
     "metadata": {
      "needs_background": "light"
     },
     "output_type": "display_data"
    },
    {
     "data": {
      "image/png": "[encoded data removed]",
      "text/plain": [
       "<Figure size 432x288 with 1 Axes>"
      ]
     },
     "metadata": {
      "needs_background": "light"
     },
     "output_type": "display_data"
    },
    {
     "data": {
      "image/png": "[encoded data removed]",
      "text/plain": [
       "<Figure size 432x288 with 1 Axes>"
      ]
     },
     "metadata": {
      "needs_background": "light"
     },
     "output_type": "display_data"
    },
    {
     "data": {
      "image/png": "[encoded data removed]",
      "text/plain": [
       "<Figure size 432x288 with 1 Axes>"
      ]
     },
     "metadata": {
      "needs_background": "light"
     },
     "output_type": "display_data"
    }
   ],
   "source": [
    "# columns = features , 제목, 색깔 지정\n",
    "features = ['Polarity','Age','review_len','word_count']\n",
    "titles = ['Polarity Distribution', 'Age Distribution', 'Review length Distribution', 'Word Count Distribution']\n",
    "colors = ['#9966ff', '#3399ff', '#00ff00', '#ff6600']\n",
    "\n",
    "# Distribution with plt,seaborn\n",
    "for feature, title, color in zip(features, titles, colors):\n",
    "    # 선 그래프로 변화 추이를 나타내기 위한 시각화 툴\n",
    "    sns.distplot(x=df[feature], bins=50, color=color)\n",
    "    plt.title(title, size=15)\n",
    "    plt.xlabel(feature)\n",
    "    plt.show()"
   ]
  },
  {
   "cell_type": "markdown",
   "id": "65328b6e-9341-4c32-9460-0a4487bd908a",
   "metadata": {},
   "source": [
    "**1. sentiment 극성 점수가 zero보다 높다. 그 의미는 대부분의 사람들이 매우 긍적적임을 나타낸다**  \n",
    "**2. 대부분의 리뷰한 사람들의 나이는 30대에서 40대이다.**"
   ]
  },
  {
   "cell_type": "code",
   "execution_count": null,
   "id": "f0e8f2f0-2347-4c54-bd0b-aabc0292dc65",
   "metadata": {},
   "outputs": [],
   "source": []
  }
 ],
 "metadata": {
  "kernelspec": {
   "display_name": "Python Multi",
   "language": "python",
   "name": "multi"
  },
  "language_info": {
   "codemirror_mode": {
    "name": "ipython",
    "version": 3
   },
   "file_extension": ".py",
   "mimetype": "text/x-python",
   "name": "python",
   "nbconvert_exporter": "python",
   "pygments_lexer": "ipython3",
   "version": "3.7.6"
  }
 },
 "nbformat": 4,
 "nbformat_minor": 5
}
