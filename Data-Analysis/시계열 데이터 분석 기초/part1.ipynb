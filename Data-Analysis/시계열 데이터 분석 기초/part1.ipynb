{
 "cells": [
  {
   "cell_type": "markdown",
   "id": "115bcbf1-f239-47f5-a65f-a5b464cf0764",
   "metadata": {},
   "source": [
    "# 시계열 분석 (Time Series)"
   ]
  },
  {
   "cell_type": "markdown",
   "id": "915f2240-ef6c-4556-96ff-14a6bff8c08e",
   "metadata": {},
   "source": [
    "* 시간 ! : 특정 간격 갖는 시간 (Lag)\n",
    "    - Lag에서 Data의 Trend를 찾는다!\n",
    "    \n",
    "* 일변량 정상시계열\n",
    "    - ARIMA\n",
    "\n",
    "* Trend : 추세  \n",
    "* Seasonality : 계절성  \n",
    "* Cycle : 주기  \n",
    "* Noise : 잡음 (시간에 따라 독립적인 데이터 평균이나 분산이 일정한 값)\n",
    "    -> White Noise"
   ]
  },
  {
   "cell_type": "code",
   "execution_count": 2,
   "id": "1d103d24-7e59-4b33-af6a-637809ffd0fc",
   "metadata": {},
   "outputs": [],
   "source": [
    "import pandas as pd\n",
    "import numpy as np\n",
    "import seaborn as sns\n",
    "import matplotlib as mpl\n",
    "import matplotlib.pyplot as plt\n",
    "\n",
    "mpl.rc('font',family='Malgun Gothic')"
   ]
  },
  {
   "cell_type": "code",
   "execution_count": 4,
   "id": "6c415819-c073-416a-b575-6e21cb714c7e",
   "metadata": {},
   "outputs": [
    {
     "name": "stdout",
     "output_type": "stream",
     "text": [
      "<class 'pandas.core.frame.DataFrame'>\n",
      "RangeIndex: 803675 entries, 0 to 803674\n",
      "Data columns (total 3 columns):\n",
      " #   Column  Non-Null Count   Dtype \n",
      "---  ------  --------------   ----- \n",
      " 0   구매일     803675 non-null  object\n",
      " 1   구매금액    803675 non-null  int64 \n",
      " 2   물품대분류   803675 non-null  object\n",
      "dtypes: int64(1), object(2)\n",
      "memory usage: 18.4+ MB\n"
     ]
    }
   ],
   "source": [
    "df1 = pd.read_csv('Data11.csv')\n",
    "df1.info()"
   ]
  },
  {
   "cell_type": "code",
   "execution_count": 5,
   "id": "7674ea18-dbb7-4ce3-9cd0-379ad40e0c88",
   "metadata": {},
   "outputs": [
    {
     "data": {
      "text/html": [
       "<div>\n",
       "<style scoped>\n",
       "    .dataframe tbody tr th:only-of-type {\n",
       "        vertical-align: middle;\n",
       "    }\n",
       "\n",
       "    .dataframe tbody tr th {\n",
       "        vertical-align: top;\n",
       "    }\n",
       "\n",
       "    .dataframe thead th {\n",
       "        text-align: right;\n",
       "    }\n",
       "</style>\n",
       "<table border=\"1\" class=\"dataframe\">\n",
       "  <thead>\n",
       "    <tr style=\"text-align: right;\">\n",
       "      <th></th>\n",
       "      <th>구매일</th>\n",
       "      <th>구매금액</th>\n",
       "      <th>물품대분류</th>\n",
       "    </tr>\n",
       "  </thead>\n",
       "  <tbody>\n",
       "    <tr>\n",
       "      <th>0</th>\n",
       "      <td>2018-04-20</td>\n",
       "      <td>57120</td>\n",
       "      <td>기저귀</td>\n",
       "    </tr>\n",
       "    <tr>\n",
       "      <th>1</th>\n",
       "      <td>2018-04-20</td>\n",
       "      <td>15900</td>\n",
       "      <td>더블하트</td>\n",
       "    </tr>\n",
       "    <tr>\n",
       "      <th>2</th>\n",
       "      <td>2018-04-20</td>\n",
       "      <td>7000</td>\n",
       "      <td>더블하트</td>\n",
       "    </tr>\n",
       "    <tr>\n",
       "      <th>3</th>\n",
       "      <td>2018-04-20</td>\n",
       "      <td>20900</td>\n",
       "      <td>더블하트</td>\n",
       "    </tr>\n",
       "    <tr>\n",
       "      <th>4</th>\n",
       "      <td>2018-05-06</td>\n",
       "      <td>26500</td>\n",
       "      <td>더블하트</td>\n",
       "    </tr>\n",
       "  </tbody>\n",
       "</table>\n",
       "</div>"
      ],
      "text/plain": [
       "          구매일   구매금액 물품대분류\n",
       "0  2018-04-20  57120   기저귀\n",
       "1  2018-04-20  15900  더블하트\n",
       "2  2018-04-20   7000  더블하트\n",
       "3  2018-04-20  20900  더블하트\n",
       "4  2018-05-06  26500  더블하트"
      ]
     },
     "execution_count": 5,
     "metadata": {},
     "output_type": "execute_result"
    }
   ],
   "source": [
    "df1.head()"
   ]
  },
  {
   "cell_type": "code",
   "execution_count": 7,
   "id": "e9e377ac-0445-4aa2-9d8a-ccd4293c628f",
   "metadata": {},
   "outputs": [
    {
     "data": {
      "text/html": [
       "<div>\n",
       "<style scoped>\n",
       "    .dataframe tbody tr th:only-of-type {\n",
       "        vertical-align: middle;\n",
       "    }\n",
       "\n",
       "    .dataframe tbody tr th {\n",
       "        vertical-align: top;\n",
       "    }\n",
       "\n",
       "    .dataframe thead th {\n",
       "        text-align: right;\n",
       "    }\n",
       "</style>\n",
       "<table border=\"1\" class=\"dataframe\">\n",
       "  <thead>\n",
       "    <tr style=\"text-align: right;\">\n",
       "      <th></th>\n",
       "      <th>구매일</th>\n",
       "      <th>구매금액</th>\n",
       "      <th>물품대분류</th>\n",
       "    </tr>\n",
       "  </thead>\n",
       "  <tbody>\n",
       "    <tr>\n",
       "      <th>803670</th>\n",
       "      <td>2020-08-06</td>\n",
       "      <td>30960</td>\n",
       "      <td>더블하트</td>\n",
       "    </tr>\n",
       "    <tr>\n",
       "      <th>803671</th>\n",
       "      <td>2020-08-06</td>\n",
       "      <td>6640</td>\n",
       "      <td>더블하트</td>\n",
       "    </tr>\n",
       "    <tr>\n",
       "      <th>803672</th>\n",
       "      <td>2020-08-06</td>\n",
       "      <td>5600</td>\n",
       "      <td>더블하트</td>\n",
       "    </tr>\n",
       "    <tr>\n",
       "      <th>803673</th>\n",
       "      <td>2020-08-06</td>\n",
       "      <td>7840</td>\n",
       "      <td>더블하트</td>\n",
       "    </tr>\n",
       "    <tr>\n",
       "      <th>803674</th>\n",
       "      <td>2020-08-06</td>\n",
       "      <td>8500</td>\n",
       "      <td>기타</td>\n",
       "    </tr>\n",
       "  </tbody>\n",
       "</table>\n",
       "</div>"
      ],
      "text/plain": [
       "               구매일   구매금액 물품대분류\n",
       "803670  2020-08-06  30960  더블하트\n",
       "803671  2020-08-06   6640  더블하트\n",
       "803672  2020-08-06   5600  더블하트\n",
       "803673  2020-08-06   7840  더블하트\n",
       "803674  2020-08-06   8500    기타"
      ]
     },
     "execution_count": 7,
     "metadata": {},
     "output_type": "execute_result"
    }
   ],
   "source": [
    "df1.tail()"
   ]
  },
  {
   "cell_type": "markdown",
   "id": "7077ce3b-2fdc-40d5-8e1d-dce81e45c576",
   "metadata": {},
   "source": [
    "구매일 -> datetime"
   ]
  },
  {
   "cell_type": "code",
   "execution_count": 8,
   "id": "c8063bbe-060b-46ae-b127-4e8ed6bcf749",
   "metadata": {},
   "outputs": [],
   "source": [
    "df1['Datetime'] = pd.to_datetime(df1['구매일'])"
   ]
  },
  {
   "cell_type": "code",
   "execution_count": 9,
   "id": "ab0d4a0f-a43e-4826-814a-76bdc0eabf94",
   "metadata": {},
   "outputs": [
    {
     "name": "stderr",
     "output_type": "stream",
     "text": [
      "<ipython-input-9-1eedf18d289e>:1: FutureWarning: Treating datetime data as categorical rather than numeric in `.describe` is deprecated and will be removed in a future version of pandas. Specify `datetime_is_numeric=True` to silence this warning and adopt the future behavior now.\n",
      "  df1['Datetime'].describe()\n"
     ]
    },
    {
     "data": {
      "text/plain": [
       "count                  803675\n",
       "unique                    589\n",
       "top       2019-10-11 00:00:00\n",
       "freq                    10500\n",
       "first     2018-04-20 00:00:00\n",
       "last      2020-08-07 00:00:00\n",
       "Name: Datetime, dtype: object"
      ]
     },
     "execution_count": 9,
     "metadata": {},
     "output_type": "execute_result"
    }
   ],
   "source": [
    "df1['Datetime'].describe()"
   ]
  },
  {
   "cell_type": "code",
   "execution_count": 11,
   "id": "b4f6b75e-5efd-412c-aebb-cfa7915a3b2c",
   "metadata": {},
   "outputs": [
    {
     "name": "stderr",
     "output_type": "stream",
     "text": [
      "<ipython-input-11-093d56191f01>:3: FutureWarning: Series.dt.weekofyear and Series.dt.week have been deprecated.  Please use Series.dt.isocalendar().week instead.\n",
      "  df1['Week'] = df1['Datetime'].dt.week\n"
     ]
    }
   ],
   "source": [
    "df1['Year'] = df1['Datetime'].dt.year\n",
    "df1['Month'] = df1['Datetime'].dt.month\n",
    "df1['Week'] = df1['Datetime'].dt.week\n",
    "df1['Day_of_week'] = df1['Datetime'].dt.day_name()"
   ]
  },
  {
   "cell_type": "code",
   "execution_count": 12,
   "id": "41c91eb3-afaf-49d2-9f83-b0464d0fab28",
   "metadata": {},
   "outputs": [
    {
     "data": {
      "text/html": [
       "<div>\n",
       "<style scoped>\n",
       "    .dataframe tbody tr th:only-of-type {\n",
       "        vertical-align: middle;\n",
       "    }\n",
       "\n",
       "    .dataframe tbody tr th {\n",
       "        vertical-align: top;\n",
       "    }\n",
       "\n",
       "    .dataframe thead th {\n",
       "        text-align: right;\n",
       "    }\n",
       "</style>\n",
       "<table border=\"1\" class=\"dataframe\">\n",
       "  <thead>\n",
       "    <tr style=\"text-align: right;\">\n",
       "      <th></th>\n",
       "      <th>구매일</th>\n",
       "      <th>구매금액</th>\n",
       "      <th>물품대분류</th>\n",
       "      <th>Datetime</th>\n",
       "      <th>Year</th>\n",
       "      <th>Month</th>\n",
       "      <th>Week</th>\n",
       "      <th>Day_of_week</th>\n",
       "    </tr>\n",
       "  </thead>\n",
       "  <tbody>\n",
       "    <tr>\n",
       "      <th>0</th>\n",
       "      <td>2018-04-20</td>\n",
       "      <td>57120</td>\n",
       "      <td>기저귀</td>\n",
       "      <td>2018-04-20</td>\n",
       "      <td>2018</td>\n",
       "      <td>4</td>\n",
       "      <td>16</td>\n",
       "      <td>Friday</td>\n",
       "    </tr>\n",
       "    <tr>\n",
       "      <th>1</th>\n",
       "      <td>2018-04-20</td>\n",
       "      <td>15900</td>\n",
       "      <td>더블하트</td>\n",
       "      <td>2018-04-20</td>\n",
       "      <td>2018</td>\n",
       "      <td>4</td>\n",
       "      <td>16</td>\n",
       "      <td>Friday</td>\n",
       "    </tr>\n",
       "    <tr>\n",
       "      <th>2</th>\n",
       "      <td>2018-04-20</td>\n",
       "      <td>7000</td>\n",
       "      <td>더블하트</td>\n",
       "      <td>2018-04-20</td>\n",
       "      <td>2018</td>\n",
       "      <td>4</td>\n",
       "      <td>16</td>\n",
       "      <td>Friday</td>\n",
       "    </tr>\n",
       "    <tr>\n",
       "      <th>3</th>\n",
       "      <td>2018-04-20</td>\n",
       "      <td>20900</td>\n",
       "      <td>더블하트</td>\n",
       "      <td>2018-04-20</td>\n",
       "      <td>2018</td>\n",
       "      <td>4</td>\n",
       "      <td>16</td>\n",
       "      <td>Friday</td>\n",
       "    </tr>\n",
       "    <tr>\n",
       "      <th>4</th>\n",
       "      <td>2018-05-06</td>\n",
       "      <td>26500</td>\n",
       "      <td>더블하트</td>\n",
       "      <td>2018-05-06</td>\n",
       "      <td>2018</td>\n",
       "      <td>5</td>\n",
       "      <td>18</td>\n",
       "      <td>Sunday</td>\n",
       "    </tr>\n",
       "  </tbody>\n",
       "</table>\n",
       "</div>"
      ],
      "text/plain": [
       "          구매일   구매금액 물품대분류   Datetime  Year  Month  Week Day_of_week\n",
       "0  2018-04-20  57120   기저귀 2018-04-20  2018      4    16      Friday\n",
       "1  2018-04-20  15900  더블하트 2018-04-20  2018      4    16      Friday\n",
       "2  2018-04-20   7000  더블하트 2018-04-20  2018      4    16      Friday\n",
       "3  2018-04-20  20900  더블하트 2018-04-20  2018      4    16      Friday\n",
       "4  2018-05-06  26500  더블하트 2018-05-06  2018      5    18      Sunday"
      ]
     },
     "execution_count": 12,
     "metadata": {},
     "output_type": "execute_result"
    }
   ],
   "source": [
    "df1.head()"
   ]
  },
  {
   "cell_type": "code",
   "execution_count": null,
   "id": "02e59304-7457-4d7b-a991-196da61926bf",
   "metadata": {},
   "outputs": [],
   "source": []
  }
 ],
 "metadata": {
  "kernelspec": {
   "display_name": "jmyeong space",
   "language": "python",
   "name": "jmyeong"
  },
  "language_info": {
   "codemirror_mode": {
    "name": "ipython",
    "version": 3
   },
   "file_extension": ".py",
   "mimetype": "text/x-python",
   "name": "python",
   "nbconvert_exporter": "python",
   "pygments_lexer": "ipython3",
   "version": "3.8.8"
  }
 },
 "nbformat": 4,
 "nbformat_minor": 5
}
